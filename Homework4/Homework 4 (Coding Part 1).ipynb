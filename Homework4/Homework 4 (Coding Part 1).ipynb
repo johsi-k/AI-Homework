{
 "cells": [
  {
   "cell_type": "markdown",
   "metadata": {},
   "source": [
    "Keong Jo Hsi 1001685  \n",
    "Homework 4 (Coding Part 1)"
   ]
  },
  {
   "cell_type": "markdown",
   "metadata": {},
   "source": [
    "Required files which are not included:\n",
    "- `trainfile.txt`\n",
    "- `valfile.txt`\n",
    "- jpg folder containing flowers dataset"
   ]
  },
  {
   "cell_type": "code",
   "execution_count": 1,
   "metadata": {
    "ExecuteTime": {
     "end_time": "2018-06-15T12:17:27.623768Z",
     "start_time": "2018-06-15T12:17:27.110142Z"
    }
   },
   "outputs": [],
   "source": [
    "import os\n",
    "import torch\n",
    "import torch.nn as nn\n",
    "import torch.nn.functional as F\n",
    "import torch.optim as optim\n",
    "from torch.optim import lr_scheduler\n",
    "from torch.utils.data import Dataset, DataLoader\n",
    "\n",
    "import torchvision\n",
    "import torchvision.models as models\n",
    "import torchvision.transforms as transforms\n",
    "\n",
    "import numpy as np\n",
    "import time\n",
    "import copy\n",
    "import math\n",
    "\n",
    "%matplotlib notebook\n",
    "from matplotlib import pyplot as plt\n",
    "import PIL.Image as Image"
   ]
  },
  {
   "cell_type": "code",
   "execution_count": 2,
   "metadata": {
    "ExecuteTime": {
     "end_time": "2018-06-15T12:17:27.628365Z",
     "start_time": "2018-06-15T12:17:27.625590Z"
    }
   },
   "outputs": [],
   "source": [
    "def parsefile(f):\n",
    "    return np.genfromtxt(f, dtype=None, encoding='utf-8')"
   ]
  },
  {
   "cell_type": "code",
   "execution_count": 3,
   "metadata": {
    "ExecuteTime": {
     "end_time": "2018-06-15T12:17:27.973372Z",
     "start_time": "2018-06-15T12:17:27.967227Z"
    }
   },
   "outputs": [],
   "source": [
    "class dataset_flowers(Dataset):\n",
    "\n",
    "    def __init__(self, img_dir='/jpg/', transform=None, mode='train'):\n",
    "        self.img_dir = img_dir\n",
    "        self.transform = transform\n",
    "\n",
    "        if mode == 'train':\n",
    "            dataset = parsefile('trainfile.txt')\n",
    "        elif mode == 'val':\n",
    "            dataset = parsefile('valfile.txt')\n",
    "        self.dataset = dataset\n",
    "\n",
    "    def __getitem__(self, index):\n",
    "\n",
    "        jpg, label = self.dataset[index]\n",
    "        imgfile = os.path.join(self.img_dir, jpg)\n",
    "        img = Image.open(imgfile).convert('RGB')\n",
    "\n",
    "        if self.transform:\n",
    "            augmented_img = self.transform(img)\n",
    "        else:\n",
    "            trans = transforms.Compose([\n",
    "                transforms.Resize(224),\n",
    "                transforms.CenterCrop(224),\n",
    "                transforms.ToTensor(),\n",
    "                transforms.Normalize(mean=[0.485, 0.456, 0.406],\n",
    "                                     std=[0.229, 0.224, 0.225]),\n",
    "            ])\n",
    "            augmented_img = trans(img)\n",
    "\n",
    "        return {'img': augmented_img, 'label': label}\n",
    "\n",
    "    def __len__(self):\n",
    "        return len(self.dataset)"
   ]
  },
  {
   "cell_type": "markdown",
   "metadata": {},
   "source": [
    "#### Without Pretraining"
   ]
  },
  {
   "cell_type": "code",
   "execution_count": 4,
   "metadata": {
    "ExecuteTime": {
     "end_time": "2018-06-15T11:52:18.422653Z",
     "start_time": "2018-06-15T11:52:15.527559Z"
    }
   },
   "outputs": [],
   "source": [
    "device = torch.device('cuda:0')\n",
    "model = models.resnet18(pretrained=False).to(device)\n",
    "optimizer = optim.SGD(params=model.parameters(), lr=1e-2)\n",
    "criterion = nn.CrossEntropyLoss()"
   ]
  },
  {
   "cell_type": "code",
   "execution_count": 5,
   "metadata": {
    "ExecuteTime": {
     "end_time": "2018-06-15T11:52:18.470584Z",
     "start_time": "2018-06-15T11:52:18.424508Z"
    }
   },
   "outputs": [],
   "source": [
    "datasets = {x: dataset_flowers(mode=x) for x in ['train', 'val']}\n",
    "batchsize = 12\n",
    "dl = {x: DataLoader(dataset=datasets[x], batch_size=batchsize, shuffle=True) for x in ['train', 'val']}\n",
    "dataset_length = {x: len(datasets[x]) for x in ['train', 'val']}\n",
    "total_iter = {x: math.ceil(dataset_length[x] / batchsize) for x in ['train', 'val']}\n",
    "num_epochs = 5"
   ]
  },
  {
   "cell_type": "code",
   "execution_count": 6,
   "metadata": {
    "ExecuteTime": {
     "end_time": "2018-06-15T12:03:00.023219Z",
     "start_time": "2018-06-15T11:52:18.472346Z"
    },
    "scrolled": false
   },
   "outputs": [
    {
     "name": "stdout",
     "output_type": "stream",
     "text": [
      "Epoch 0/4\n",
      "Phase: Train \tLoss: 4.4263 \tAccuracy: 0.0923\n",
      "Phase: Val \tLoss: 3.6187 \tAccuracy: 0.1307\n",
      "\n",
      "Epoch 1/4\n",
      "Phase: Train \tLoss: 3.4288 \tAccuracy: 0.1676\n",
      "Phase: Val \tLoss: 3.0156 \tAccuracy: 0.2426\n",
      "\n",
      "Epoch 2/4\n",
      "Phase: Train \tLoss: 3.0442 \tAccuracy: 0.2414\n",
      "Phase: Val \tLoss: 2.8226 \tAccuracy: 0.2998\n",
      "\n",
      "Epoch 3/4\n",
      "Phase: Train \tLoss: 2.7585 \tAccuracy: 0.2968\n",
      "Phase: Val \tLoss: 2.5907 \tAccuracy: 0.3276\n",
      "\n",
      "Epoch 4/4\n",
      "Phase: Train \tLoss: 2.5565 \tAccuracy: 0.3371\n",
      "Phase: Val \tLoss: 2.4799 \tAccuracy: 0.3717\n",
      "\n",
      "Training complete in 10m 42s\n",
      "Best val acc: 0.371732\n"
     ]
    }
   ],
   "source": [
    "since = time.time()\n",
    "best_model_wts = copy.deepcopy(model.state_dict())\n",
    "best_acc = 0.0\n",
    "\n",
    "for epoch in range(num_epochs):\n",
    "    print('Epoch {}/{}'.format(epoch, num_epochs - 1))\n",
    "    \n",
    "    # each epoch has a training and a validation phase\n",
    "    for phase in ['train', 'val']:\n",
    "        iteration = 0\n",
    "        if phase == 'train':\n",
    "            model.train() \n",
    "        else:\n",
    "            model.eval()\n",
    "            \n",
    "        running_loss = 0.0\n",
    "        running_corrects = 0\n",
    "        \n",
    "        for data_dict in dl[phase]:\n",
    "            iteration += 1\n",
    "            data = data_dict['img'].to(device)  # [5,3,244,244], FloatTensor\n",
    "            label = data_dict['label'].long().to(device) # [5], LongTensor\n",
    "\n",
    "            optimizer.zero_grad()\n",
    "\n",
    "            # forward\n",
    "            # track history if only in train\n",
    "            with torch.set_grad_enabled(phase == 'train'):\n",
    "                output = model(data) # [5,1000], FloatTensor\n",
    "            #     print('output', output)\n",
    "\n",
    "                pred = (torch.argmax(output, dim=1)) # [5], FloatTensor\n",
    "            #     print('pred', pred)\n",
    "            #     print('label', label)\n",
    "\n",
    "                loss = criterion(output, label)\n",
    "\n",
    "                # backward + optimize only if in training phase\n",
    "                if phase == 'train':\n",
    "                    loss.backward()\n",
    "                    optimizer.step()\n",
    "\n",
    "            # minibatch_loss * minibatch_size\n",
    "            running_loss += loss.item() * label.shape[0]\n",
    "            running_corrects += sum(torch.eq(pred,label)).item()\n",
    "            \n",
    "            print('iter: {}/{}, running loss = {:.4f}'.format(iteration, total_iter[phase], running_loss), end='\\r')\n",
    "\n",
    "        epoch_loss = running_loss / dataset_length[phase]\n",
    "        epoch_acc = running_corrects / dataset_length[phase]\n",
    "        \n",
    "        print('Phase: {} \\tLoss: {:.4f} \\tAccuracy: {:.4f}'.format(\n",
    "                phase.capitalize(), epoch_loss, epoch_acc))\n",
    "        \n",
    "        if phase == 'val' and epoch_acc > best_acc:\n",
    "            best_acc = epoch_acc\n",
    "            best_model_wts = copy.deepcopy(model.state_dict())\n",
    "            \n",
    "    print()\n",
    "\n",
    "time_elapsed = time.time() - since\n",
    "print('Training complete in {:.0f}m {:.0f}s'.format(\n",
    "        time_elapsed // 60, time_elapsed % 60))\n",
    "print('Best val acc: {:4f}'.format(best_acc))\n",
    "model.load_state_dict(best_model_wts)"
   ]
  },
  {
   "cell_type": "markdown",
   "metadata": {},
   "source": [
    "#### With Pretraining"
   ]
  },
  {
   "cell_type": "code",
   "execution_count": 4,
   "metadata": {
    "ExecuteTime": {
     "end_time": "2018-06-15T12:04:50.581845Z",
     "start_time": "2018-06-15T12:04:47.588785Z"
    }
   },
   "outputs": [],
   "source": [
    "device = torch.device('cuda:0')\n",
    "model = models.resnet18(pretrained=True).to(device)\n",
    "optimizer = optim.SGD(params=model.parameters(), lr=1e-2)\n",
    "criterion = nn.CrossEntropyLoss()"
   ]
  },
  {
   "cell_type": "code",
   "execution_count": 5,
   "metadata": {
    "ExecuteTime": {
     "end_time": "2018-06-15T12:04:50.632604Z",
     "start_time": "2018-06-15T12:04:50.584031Z"
    }
   },
   "outputs": [],
   "source": [
    "datasets = {x: dataset_flowers(mode=x) for x in ['train', 'val']}\n",
    "batchsize = 12\n",
    "dl = {x: DataLoader(dataset=datasets[x], batch_size=batchsize, shuffle=True) for x in ['train', 'val']}\n",
    "dataset_length = {x: len(datasets[x]) for x in ['train', 'val']}\n",
    "total_iter = {x: math.ceil(dataset_length[x] / batchsize) for x in ['train', 'val']}\n",
    "num_epochs = 5"
   ]
  },
  {
   "cell_type": "code",
   "execution_count": 6,
   "metadata": {
    "ExecuteTime": {
     "end_time": "2018-06-15T12:15:19.942941Z",
     "start_time": "2018-06-15T12:04:52.629043Z"
    },
    "collapsed": true
   },
   "outputs": [
    {
     "name": "stdout",
     "output_type": "stream",
     "text": [
      "Epoch 0/4\n",
      "Phase: Train \tLoss: 2.0927 \tAccuracy: 0.6056\n",
      "Phase: Val \tLoss: 0.5006 \tAccuracy: 0.8758\n",
      "\n",
      "Epoch 1/4\n",
      "Phase: Train \tLoss: 0.2835 \tAccuracy: 0.9414\n",
      "Phase: Val \tLoss: 0.2725 \tAccuracy: 0.9314\n",
      "\n",
      "Epoch 2/4\n",
      "Phase: Train \tLoss: 0.1002 \tAccuracy: 0.9863\n",
      "Phase: Val \tLoss: 0.2127 \tAccuracy: 0.9420\n",
      "\n",
      "Epoch 3/4\n",
      "Phase: Train \tLoss: 0.0498 \tAccuracy: 0.9961\n",
      "Phase: Val \tLoss: 0.1877 \tAccuracy: 0.9453\n",
      "\n",
      "Epoch 4/4\n",
      "Phase: Train \tLoss: 0.0354 \tAccuracy: 0.9974\n",
      "Phase: Val \tLoss: 0.1992 \tAccuracy: 0.9502\n",
      "\n",
      "Training complete in 10m 27s\n",
      "Best val acc: 0.950163\n"
     ]
    }
   ],
   "source": [
    "since = time.time()\n",
    "best_model_wts = copy.deepcopy(model.state_dict())\n",
    "best_acc = 0.0\n",
    "\n",
    "for epoch in range(num_epochs):\n",
    "    print('Epoch {}/{}'.format(epoch, num_epochs - 1))\n",
    "    \n",
    "    # each epoch has a training and a validation phase\n",
    "    for phase in ['train', 'val']:\n",
    "        iteration = 0\n",
    "        if phase == 'train':\n",
    "            model.train() \n",
    "        else:\n",
    "            model.eval()\n",
    "            \n",
    "        running_loss = 0.0\n",
    "        running_corrects = 0\n",
    "        \n",
    "        for data_dict in dl[phase]:\n",
    "            iteration += 1\n",
    "            data = data_dict['img'].to(device)  # [5,3,244,244], FloatTensor\n",
    "            label = data_dict['label'].long().to(device) # [5], LongTensor\n",
    "\n",
    "            optimizer.zero_grad()\n",
    "\n",
    "            # forward\n",
    "            # track history if only in train\n",
    "            with torch.set_grad_enabled(phase == 'train'):\n",
    "                output = model(data) # [5,1000], FloatTensor\n",
    "            #     print('output', output)\n",
    "\n",
    "                pred = (torch.argmax(output, dim=1)) # [5], FloatTensor\n",
    "            #     print('pred', pred)\n",
    "            #     print('label', label)\n",
    "\n",
    "                loss = criterion(output, label)\n",
    "\n",
    "                # backward + optimize only if in training phase\n",
    "                if phase == 'train':\n",
    "                    loss.backward()\n",
    "                    optimizer.step()\n",
    "\n",
    "            # minibatch_loss * minibatch_size\n",
    "            running_loss += loss.item() * label.shape[0]\n",
    "            running_corrects += sum(torch.eq(pred,label)).item()\n",
    "            \n",
    "            print('iter: {}/{}, running loss = {:.4f}'.format(iteration, total_iter[phase], running_loss), end='\\r')\n",
    "\n",
    "        epoch_loss = running_loss / dataset_length[phase]\n",
    "        epoch_acc = running_corrects / dataset_length[phase]\n",
    "        \n",
    "        print('Phase: {} \\tLoss: {:.4f} \\tAccuracy: {:.4f}'.format(\n",
    "                phase.capitalize(), epoch_loss, epoch_acc))\n",
    "        \n",
    "        if phase == 'val' and epoch_acc > best_acc:\n",
    "            best_acc = epoch_acc\n",
    "            best_model_wts = copy.deepcopy(model.state_dict())\n",
    "            \n",
    "    print()\n",
    "\n",
    "time_elapsed = time.time() - since\n",
    "print('Training complete in {:.0f}m {:.0f}s'.format(\n",
    "        time_elapsed // 60, time_elapsed % 60))\n",
    "print('Best val acc: {:4f}'.format(best_acc))\n",
    "model.load_state_dict(best_model_wts)"
   ]
  },
  {
   "cell_type": "markdown",
   "metadata": {},
   "source": [
    "#### Pretraining with last layer removed"
   ]
  },
  {
   "cell_type": "code",
   "execution_count": 4,
   "metadata": {
    "ExecuteTime": {
     "end_time": "2018-06-15T12:17:38.679029Z",
     "start_time": "2018-06-15T12:17:35.700517Z"
    }
   },
   "outputs": [],
   "source": [
    "device = torch.device('cuda:0')\n",
    "model = models.resnet18(pretrained=True)\n",
    "\n",
    "for param in model.parameters():\n",
    "    param.requires_grad = False\n",
    "    \n",
    "# Parameters of newly constructed modules have requires_grad=True by default\n",
    "num_ftrs = model.fc.in_features\n",
    "model.fc = nn.Linear(num_ftrs, 102)\n",
    "model = model.to(device)\n",
    "\n",
    "criterion = nn.CrossEntropyLoss()\n",
    "\n",
    "# Only parameters of final layer are being optimized as opposed to before\n",
    "optimizer = optim.SGD(params=model.fc.parameters(), lr=1e-2)"
   ]
  },
  {
   "cell_type": "code",
   "execution_count": 5,
   "metadata": {
    "ExecuteTime": {
     "end_time": "2018-06-15T12:17:38.728209Z",
     "start_time": "2018-06-15T12:17:38.680934Z"
    }
   },
   "outputs": [],
   "source": [
    "datasets = {x: dataset_flowers(mode=x) for x in ['train', 'val']}\n",
    "batchsize = 12\n",
    "dl = {x: DataLoader(dataset=datasets[x], batch_size=batchsize, shuffle=True) for x in ['train', 'val']}\n",
    "dataset_length = {x: len(datasets[x]) for x in ['train', 'val']}\n",
    "total_iter = {x: math.ceil(dataset_length[x] / batchsize) for x in ['train', 'val']}\n",
    "num_epochs = 5"
   ]
  },
  {
   "cell_type": "code",
   "execution_count": null,
   "metadata": {
    "ExecuteTime": {
     "end_time": "2018-06-15T12:25:20.426879Z",
     "start_time": "2018-06-15T12:17:38.730092Z"
    }
   },
   "outputs": [],
   "source": [
    "since = time.time()\n",
    "best_model_wts = copy.deepcopy(model.state_dict())\n",
    "best_acc = 0.0\n",
    "\n",
    "for epoch in range(num_epochs):\n",
    "    print('Epoch {}/{}'.format(epoch, num_epochs - 1))\n",
    "    \n",
    "    # each epoch has a training and a validation phase\n",
    "    for phase in ['train', 'val']:\n",
    "        iteration = 0\n",
    "        if phase == 'train':\n",
    "            model.train() \n",
    "        else:\n",
    "            model.eval()\n",
    "            \n",
    "        running_loss = 0.0\n",
    "        running_corrects = 0\n",
    "        \n",
    "        for data_dict in dl[phase]:\n",
    "            iteration += 1\n",
    "            data = data_dict['img'].to(device)  # [5,3,244,244], FloatTensor\n",
    "            label = data_dict['label'].long().to(device) # [5], LongTensor\n",
    "\n",
    "            optimizer.zero_grad()\n",
    "\n",
    "            # forward\n",
    "            # track history if only in train\n",
    "            with torch.set_grad_enabled(phase == 'train'):\n",
    "                output = model(data) # [5,1000], FloatTensor\n",
    "            #     print('output', output)\n",
    "\n",
    "                pred = (torch.argmax(output, dim=1)) # [5], FloatTensor\n",
    "            #     print('pred', pred)\n",
    "            #     print('label', label)\n",
    "\n",
    "                loss = criterion(output, label)\n",
    "\n",
    "                # backward + optimize only if in training phase\n",
    "                if phase == 'train':\n",
    "                    loss.backward()\n",
    "                    optimizer.step()\n",
    "\n",
    "            # minibatch_loss * minibatch_size\n",
    "            running_loss += loss.item() * label.shape[0]\n",
    "            running_corrects += sum(torch.eq(pred,label)).item()\n",
    "            \n",
    "            print('iter: {}/{}, running loss = {:.4f}'.format(iteration, total_iter[phase], running_loss), end='\\r')\n",
    "\n",
    "        epoch_loss = running_loss / dataset_length[phase]\n",
    "        epoch_acc = running_corrects / dataset_length[phase]\n",
    "        \n",
    "        print('Phase: {} \\tLoss: {:.4f} \\tAccuracy: {:.4f}'.format(\n",
    "                phase.capitalize(), epoch_loss, epoch_acc))\n",
    "        \n",
    "        if phase == 'val' and epoch_acc > best_acc:\n",
    "            best_acc = epoch_acc\n",
    "            best_model_wts = copy.deepcopy(model.state_dict())\n",
    "            \n",
    "    print()\n",
    "\n",
    "time_elapsed = time.time() - since\n",
    "print('Training complete in {:.0f}m {:.0f}s'.format(\n",
    "        time_elapsed // 60, time_elapsed % 60))\n",
    "print('Best val acc: {:4f}'.format(best_acc))\n",
    "model.load_state_dict(best_model_wts)"
   ]
  },
  {
   "cell_type": "markdown",
   "metadata": {},
   "source": [
    "#### Plot of validation accuracies"
   ]
  },
  {
   "cell_type": "code",
   "execution_count": 13,
   "metadata": {
    "ExecuteTime": {
     "end_time": "2018-06-15T11:33:56.074885Z",
     "start_time": "2018-06-15T11:33:55.935710Z"
    }
   },
   "outputs": [
    {
     "data": {
      "image/png": "[encoded data removed]",
      "text/plain": [
       "<Figure size 432x288 with 1 Axes>"
      ]
     },
     "metadata": {},
     "output_type": "display_data"
    }
   ],
   "source": [
    "index = np.arange(3)\n",
    "\n",
    "not_pretrained = (0.1707, 0.4101, 0.406)\n",
    "pretrained = (0.8398, 0.9501, 0.623)\n",
    "finetuned = (0.4191, 0.8888, 0.924)\n",
    "bar_width = 0.28\n",
    "\n",
    "fig, ax = plt.subplots()\n",
    "\n",
    "rects1 = ax.bar(index, not_pretrained, bar_width, color='#587cff', label='no pretraining', align='center')\n",
    "rects2 = ax.bar(index+bar_width, pretrained, bar_width, color='#ff587c', label='pretrained', align='center')\n",
    "rects3 = ax.bar(index+(2*bar_width), finetuned, bar_width, color='#ffdb58', label='pretrained with last layer removed', align='center')\n",
    "\n",
    "ax.set_xlabel('Learning Rate')\n",
    "ax.set_ylabel('Validation Accuracy')\n",
    "ax.set_title('Validation accuracy per training type and learning rate')\n",
    "ax.set_xticks(index + bar_width / 2)\n",
    "ax.set_xticklabels(('0.001', '0.01', '0.1'))\n",
    "ax.legend(bbox_to_anchor=(1.04,1), borderaxespad=0);"
   ]
  },
  {
   "cell_type": "markdown",
   "metadata": {},
   "source": [
    "Training was performed over 5 epochs per learning rate and training type. All data was resized to 224 on its shorter side and centre-cropped to 224x224. Pretraining the model and afterwards training only the last layer yields better accuracy as learning rate increases. On the other hand, pretraining and then training all layers yields a poorer accuracy as learning rate or epoch size increases, since too much training will override the pretrained weights, resulting in an effect similar to a model without pretraining. "
   ]
  }
 ],
 "metadata": {
  "kernelspec": {
   "display_name": "Python 3",
   "language": "python",
   "name": "python3"
  },
  "language_info": {
   "codemirror_mode": {
    "name": "ipython",
    "version": 3
   },
   "file_extension": ".py",
   "mimetype": "text/x-python",
   "name": "python",
   "nbconvert_exporter": "python",
   "pygments_lexer": "ipython3",
   "version": "3.6.5"
  },
  "toc": {
   "base_numbering": 1,
   "nav_menu": {},
   "number_sections": true,
   "sideBar": true,
   "skip_h1_title": false,
   "title_cell": "Table of Contents",
   "title_sidebar": "Contents",
   "toc_cell": false,
   "toc_position": {},
   "toc_section_display": true,
   "toc_window_display": false
  },
  "varInspector": {
   "cols": {
    "lenName": 16,
    "lenType": 16,
    "lenVar": 40
   },
   "kernels_config": {
    "python": {
     "delete_cmd_postfix": "",
     "delete_cmd_prefix": "del ",
     "library": "var_list.py",
     "varRefreshCmd": "print(var_dic_list())"
    },
    "r": {
     "delete_cmd_postfix": ") ",
     "delete_cmd_prefix": "rm(",
     "library": "var_list.r",
     "varRefreshCmd": "cat(var_dic_list()) "
    }
   },
   "types_to_exclude": [
    "module",
    "function",
    "builtin_function_or_method",
    "instance",
    "_Feature"
   ],
   "window_display": false
  }
 },
 "nbformat": 4,
 "nbformat_minor": 2
}
