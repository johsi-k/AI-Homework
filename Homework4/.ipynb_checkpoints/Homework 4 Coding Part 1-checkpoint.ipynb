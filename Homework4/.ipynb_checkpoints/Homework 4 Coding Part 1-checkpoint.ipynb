{
 "cells": [
  {
   "cell_type": "markdown",
   "metadata": {},
   "source": [
    "Keong Jo Hsi 1001685  \n",
    "Homework 4 (Coding Part 1)"
   ]
  },
  {
   "cell_type": "code",
   "execution_count": 310,
   "metadata": {
    "ExecuteTime": {
     "end_time": "2018-06-12T09:36:26.927097Z",
     "start_time": "2018-06-12T09:36:26.894116Z"
    }
   },
   "outputs": [],
   "source": [
    "import os\n",
    "import torch\n",
    "import torch.nn as nn\n",
    "import torch.nn.functional as F\n",
    "import torch.optim as optim\n",
    "from torch.utils.data import Dataset, DataLoader\n",
    "\n",
    "import torchvision.models as models\n",
    "import torchvision.transforms as transforms\n",
    "\n",
    "import numpy as np\n",
    "from matplotlib import pyplot as plt\n",
    "%matplotlib notebook\n",
    "\n",
    "import PIL.Image as Image\n"
   ]
  },
  {
   "cell_type": "code",
   "execution_count": 383,
   "metadata": {
    "ExecuteTime": {
     "end_time": "2018-06-12T11:46:36.833722Z",
     "start_time": "2018-06-12T11:46:36.829707Z"
    }
   },
   "outputs": [],
   "source": [
    "def parsefile(f):\n",
    "    return np.genfromtxt(f, dtype=None, encoding='utf-8')"
   ]
  },
  {
   "cell_type": "code",
   "execution_count": 387,
   "metadata": {
    "ExecuteTime": {
     "end_time": "2018-06-12T11:46:57.616186Z",
     "start_time": "2018-06-12T11:46:57.600195Z"
    }
   },
   "outputs": [],
   "source": [
    "class dataset_flowers(Dataset):\n",
    "\n",
    "    def __init__(self, img_dir='./jpg/', transform=None, mode='train'):\n",
    "        self.img_dir = img_dir\n",
    "        self.transform = transform\n",
    "\n",
    "        if mode == 'train':\n",
    "            dataset = parsefile('trainfile_10.txt')\n",
    "        elif mode == 'test':\n",
    "            dataset = parsefile('valfile.txt')\n",
    "        self.dataset = dataset\n",
    "\n",
    "    def __getitem__(self, index):\n",
    "\n",
    "        jpg, label = self.dataset[index]\n",
    "        imgfile = os.path.join(self.img_dir, jpg)\n",
    "        img = Image.open(imgfile).convert('RGB')\n",
    "\n",
    "        if self.transform:\n",
    "            augmented_img = self.transform(img)\n",
    "        else:\n",
    "            trans = transforms.Compose([\n",
    "                transforms.Resize(224),\n",
    "                transforms.CenterCrop(224),\n",
    "                transforms.ToTensor(),\n",
    "                transforms.Normalize(mean=[0.485, 0.456, 0.406],\n",
    "                                     std=[0.229, 0.224, 0.225]),\n",
    "            ])\n",
    "            augmented_img = trans(img)\n",
    "\n",
    "        return {'img': augmented_img, 'label': label}\n",
    "\n",
    "    def __len__(self):\n",
    "        return len(self.dataset)"
   ]
  },
  {
   "cell_type": "markdown",
   "metadata": {},
   "source": [
    "#### With Pretraining"
   ]
  },
  {
   "cell_type": "code",
   "execution_count": 388,
   "metadata": {
    "ExecuteTime": {
     "end_time": "2018-06-12T11:46:59.005083Z",
     "start_time": "2018-06-12T11:46:58.487756Z"
    }
   },
   "outputs": [],
   "source": [
    "pretrained_model = models.resnet18(pretrained=True)\n",
    "optimizer = optim.SGD(params=model.parameters(), lr=0.1)\n",
    "criterion = nn.CrossEntropyLoss()"
   ]
  },
  {
   "cell_type": "code",
   "execution_count": 389,
   "metadata": {
    "ExecuteTime": {
     "end_time": "2018-06-12T11:47:03.852441Z",
     "start_time": "2018-06-12T11:46:59.323903Z"
    },
    "scrolled": false
   },
   "outputs": [
    {
     "name": "stdout",
     "output_type": "stream",
     "text": [
      "accuracy = 0.0, loss = 9.26341199874878\n"
     ]
    }
   ],
   "source": [
    "dataset = dataset_flowers(mode='train')\n",
    "dl = DataLoader(dataset=dataset, batch_size=5)\n",
    "\n",
    "correct = 0\n",
    "denominator = 0\n",
    "running_loss = 0\n",
    "\n",
    "pretrained_model.train()\n",
    "\n",
    "for data_dict in dl: \n",
    "    optimizer.zero_grad()\n",
    "    \n",
    "    data = data_dict['img']  # [5,3,244,244], FloatTensor\n",
    "    label = data_dict['label'].long() # [5], LongTensor\n",
    "    \n",
    "    output = pretrained_model(data) # [5,1000], FloatTensor\n",
    "#     print('output', output)\n",
    "    \n",
    "    pred = (torch.argmax(output, dim=1)) # [5], FloatTensor\n",
    "#     print('pred', pred)\n",
    "#     print('label', label)\n",
    "\n",
    "    loss = criterion(output, label)\n",
    "    loss.backward()\n",
    "    optimizer.step()\n",
    "    \n",
    "    # minibatch_loss * minibatch_size\n",
    "    running_loss += loss.item() * label.shape[0]\n",
    "    \n",
    "    correct += sum(torch.eq(pred,label)).item()\n",
    "    denominator += label.shape[0]\n",
    "        \n",
    "accuracy = float(correct) / denominator\n",
    "print('accuracy = {}, loss = {}'.format(accuracy, running_loss/denominator))\n"
   ]
  },
  {
   "cell_type": "markdown",
   "metadata": {},
   "source": [
    "#### Without Pretraining"
   ]
  },
  {
   "cell_type": "code",
   "execution_count": 388,
   "metadata": {
    "ExecuteTime": {
     "end_time": "2018-06-12T11:46:59.005083Z",
     "start_time": "2018-06-12T11:46:58.487756Z"
    }
   },
   "outputs": [],
   "source": [
    "model = models.resnet18(pretrained=False)\n",
    "optimizer = optim.SGD(params=model.parameters(), lr=0.1)\n",
    "criterion = nn.CrossEntropyLoss()"
   ]
  },
  {
   "cell_type": "code",
   "execution_count": 389,
   "metadata": {
    "ExecuteTime": {
     "end_time": "2018-06-12T11:47:03.852441Z",
     "start_time": "2018-06-12T11:46:59.323903Z"
    },
    "scrolled": false
   },
   "outputs": [
    {
     "name": "stdout",
     "output_type": "stream",
     "text": [
      "accuracy = 0.0, loss = 9.26341199874878\n"
     ]
    }
   ],
   "source": [
    "dataset = dataset_flowers(mode='train')\n",
    "dl = DataLoader(dataset=dataset, batch_size=5)\n",
    "\n",
    "correct = 0\n",
    "denominator = 0\n",
    "running_loss = 0\n",
    "\n",
    "model.train()\n",
    "\n",
    "for data_dict in dl: \n",
    "    optimizer.zero_grad()\n",
    "    \n",
    "    data = data_dict['img']  # [5,3,244,244], FloatTensor\n",
    "    label = data_dict['label'].long() # [5], LongTensor\n",
    "    \n",
    "    output = pretrained_model(data) # [5,1000], FloatTensor\n",
    "#     print('output', output)\n",
    "    \n",
    "    pred = (torch.argmax(output, dim=1)) # [5], FloatTensor\n",
    "#     print('pred', pred)\n",
    "#     print('label', label)\n",
    "\n",
    "    loss = criterion(output, label)\n",
    "    loss.backward()\n",
    "    optimizer.step()\n",
    "    \n",
    "    # minibatch_loss * minibatch_size\n",
    "    running_loss += loss.item() * label.shape[0]\n",
    "    \n",
    "    correct += sum(torch.eq(pred,label)).item()\n",
    "    denominator += label.shape[0]\n",
    "        \n",
    "accuracy = float(correct) / denominator\n",
    "print('accuracy = {}, loss = {}'.format(accuracy, running_loss/denominator))\n"
   ]
  },
  {
   "cell_type": "code",
   "execution_count": null,
   "metadata": {},
   "outputs": [],
   "source": []
  },
  {
   "cell_type": "markdown",
   "metadata": {},
   "source": [
    "#### Pretraining with last layer removed"
   ]
  },
  {
   "cell_type": "code",
   "execution_count": 392,
   "metadata": {
    "ExecuteTime": {
     "end_time": "2018-06-12T12:38:35.990677Z",
     "start_time": "2018-06-12T12:38:35.460979Z"
    }
   },
   "outputs": [
    {
     "data": {
      "text/plain": [
       "<bound method Module.named_modules of Sequential(\n",
       "  (0): BasicBlock(\n",
       "    (conv1): Conv2d(256, 512, kernel_size=(3, 3), stride=(2, 2), padding=(1, 1), bias=False)\n",
       "    (bn1): BatchNorm2d(512, eps=1e-05, momentum=0.1, affine=True, track_running_stats=True)\n",
       "    (relu): ReLU(inplace)\n",
       "    (conv2): Conv2d(512, 512, kernel_size=(3, 3), stride=(1, 1), padding=(1, 1), bias=False)\n",
       "    (bn2): BatchNorm2d(512, eps=1e-05, momentum=0.1, affine=True, track_running_stats=True)\n",
       "    (downsample): Sequential(\n",
       "      (0): Conv2d(256, 512, kernel_size=(1, 1), stride=(2, 2), bias=False)\n",
       "      (1): BatchNorm2d(512, eps=1e-05, momentum=0.1, affine=True, track_running_stats=True)\n",
       "    )\n",
       "  )\n",
       "  (1): BasicBlock(\n",
       "    (conv1): Conv2d(512, 512, kernel_size=(3, 3), stride=(1, 1), padding=(1, 1), bias=False)\n",
       "    (bn1): BatchNorm2d(512, eps=1e-05, momentum=0.1, affine=True, track_running_stats=True)\n",
       "    (relu): ReLU(inplace)\n",
       "    (conv2): Conv2d(512, 512, kernel_size=(3, 3), stride=(1, 1), padding=(1, 1), bias=False)\n",
       "    (bn2): BatchNorm2d(512, eps=1e-05, momentum=0.1, affine=True, track_running_stats=True)\n",
       "  )\n",
       ")>"
      ]
     },
     "execution_count": 392,
     "metadata": {},
     "output_type": "execute_result"
    }
   ],
   "source": [
    "pretrained_model = models.resnet18(pretrained=True)\n",
    "optimizer = optim.SGD(params=model.parameters(), lr=0.1)\n",
    "criterion = nn.CrossEntropyLoss()\n"
   ]
  },
  {
   "cell_type": "code",
   "execution_count": 389,
   "metadata": {
    "ExecuteTime": {
     "end_time": "2018-06-12T11:47:03.852441Z",
     "start_time": "2018-06-12T11:46:59.323903Z"
    },
    "scrolled": false
   },
   "outputs": [
    {
     "name": "stdout",
     "output_type": "stream",
     "text": [
      "accuracy = 0.0, loss = 9.26341199874878\n"
     ]
    }
   ],
   "source": [
    "dataset = dataset_flowers(mode='train')\n",
    "dl = DataLoader(dataset=dataset, batch_size=5)\n",
    "\n",
    "correct = 0\n",
    "denominator = 0\n",
    "running_loss = 0\n",
    "\n",
    "pretrained_model.train()\n",
    "\n",
    "for data_dict in dl: \n",
    "    optimizer.zero_grad()\n",
    "    \n",
    "    data = data_dict['img']  # [5,3,244,244], FloatTensor\n",
    "    label = data_dict['label'].long() # [5], LongTensor\n",
    "    \n",
    "    output = pretrained_model(data) # [5,1000], FloatTensor\n",
    "#     print('output', output)\n",
    "    \n",
    "    pred = (torch.argmax(output, dim=1)) # [5], FloatTensor\n",
    "#     print('pred', pred)\n",
    "#     print('label', label)\n",
    "\n",
    "    loss = criterion(output, label)\n",
    "    loss.backward()\n",
    "    optimizer.step()\n",
    "    \n",
    "    # minibatch_loss * minibatch_size\n",
    "    running_loss += loss.item() * label.shape[0]\n",
    "    \n",
    "    correct += sum(torch.eq(pred,label)).item()\n",
    "    denominator += label.shape[0]\n",
    "        \n",
    "accuracy = float(correct) / denominator\n",
    "print('accuracy = {}, loss = {}'.format(accuracy, running_loss/denominator))\n"
   ]
  }
 ],
 "metadata": {
  "kernelspec": {
   "display_name": "Python 3",
   "language": "python",
   "name": "python3"
  },
  "language_info": {
   "codemirror_mode": {
    "name": "ipython",
    "version": 3
   },
   "file_extension": ".py",
   "mimetype": "text/x-python",
   "name": "python",
   "nbconvert_exporter": "python",
   "pygments_lexer": "ipython3",
   "version": "3.6.5"
  },
  "toc": {
   "base_numbering": 1,
   "nav_menu": {},
   "number_sections": true,
   "sideBar": true,
   "skip_h1_title": false,
   "title_cell": "Table of Contents",
   "title_sidebar": "Contents",
   "toc_cell": false,
   "toc_position": {},
   "toc_section_display": true,
   "toc_window_display": false
  },
  "varInspector": {
   "cols": {
    "lenName": 16,
    "lenType": 16,
    "lenVar": 40
   },
   "kernels_config": {
    "python": {
     "delete_cmd_postfix": "",
     "delete_cmd_prefix": "del ",
     "library": "var_list.py",
     "varRefreshCmd": "print(var_dic_list())"
    },
    "r": {
     "delete_cmd_postfix": ") ",
     "delete_cmd_prefix": "rm(",
     "library": "var_list.r",
     "varRefreshCmd": "cat(var_dic_list()) "
    }
   },
   "types_to_exclude": [
    "module",
    "function",
    "builtin_function_or_method",
    "instance",
    "_Feature"
   ],
   "window_display": false
  }
 },
 "nbformat": 4,
 "nbformat_minor": 2
}
