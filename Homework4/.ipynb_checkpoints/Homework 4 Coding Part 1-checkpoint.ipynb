{
 "cells": [
  {
   "cell_type": "markdown",
   "metadata": {},
   "source": [
    "Keong Jo Hsi 1001685  \n",
    "Homework 4 (Coding Part 1)"
   ]
  },
  {
   "cell_type": "code",
   "execution_count": 1,
   "metadata": {
    "ExecuteTime": {
     "end_time": "2018-06-14T20:07:35.411175Z",
     "start_time": "2018-06-14T20:07:35.100129Z"
    }
   },
   "outputs": [],
   "source": [
    "import os\n",
    "import torch"
   ]
  },
  {
   "cell_type": "code",
   "execution_count": 2,
   "metadata": {
    "ExecuteTime": {
     "end_time": "2018-06-14T20:07:35.417696Z",
     "start_time": "2018-06-14T20:07:35.412988Z"
    }
   },
   "outputs": [],
   "source": [
    "import torch.nn as nn\n",
    "import torch.nn.functional as F\n",
    "import torch.optim as optim\n",
    "from torch.optim import lr_scheduler\n",
    "from torch.utils.data import Dataset, DataLoader"
   ]
  },
  {
   "cell_type": "code",
   "execution_count": 3,
   "metadata": {
    "ExecuteTime": {
     "end_time": "2018-06-14T20:07:35.622988Z",
     "start_time": "2018-06-14T20:07:35.419483Z"
    }
   },
   "outputs": [],
   "source": [
    "import numpy as np\n",
    "import torchvision\n",
    "from torchvision import datasets, models, transforms\n",
    "import matplotlib.pyplot as plt\n",
    "import time\n",
    "import copy\n",
    "import math\n",
    "\n",
    "import torchvision.models as models\n",
    "import torchvision.transforms as transforms\n",
    "\n",
    "%matplotlib notebook\n",
    "from matplotlib import pyplot as plt\n",
    "\n",
    "import PIL.Image as Image"
   ]
  },
  {
   "cell_type": "code",
   "execution_count": 4,
   "metadata": {
    "ExecuteTime": {
     "end_time": "2018-06-14T20:07:35.627983Z",
     "start_time": "2018-06-14T20:07:35.624802Z"
    }
   },
   "outputs": [],
   "source": [
    "def parsefile(f):\n",
    "    return np.genfromtxt(f, dtype=None, encoding='utf-8')"
   ]
  },
  {
   "cell_type": "code",
   "execution_count": 5,
   "metadata": {
    "ExecuteTime": {
     "end_time": "2018-06-14T20:07:35.636155Z",
     "start_time": "2018-06-14T20:07:35.630324Z"
    }
   },
   "outputs": [],
   "source": [
    "class dataset_flowers(Dataset):\n",
    "\n",
    "    def __init__(self, img_dir='/home/ubuntu/data1/flowersstuff/flowers_data/jpg/', transform=None, mode='train'):\n",
    "        self.img_dir = img_dir\n",
    "        self.transform = transform\n",
    "\n",
    "        if mode == 'train':\n",
    "            dataset = parsefile('/home/ubuntu/data1/flowersstuff/trainfile.txt')\n",
    "        elif mode == 'val':\n",
    "            dataset = parsefile('/home/ubuntu/data1/flowersstuff/valfile.txt')\n",
    "        self.dataset = dataset\n",
    "\n",
    "    def __getitem__(self, index):\n",
    "\n",
    "        jpg, label = self.dataset[index]\n",
    "        imgfile = os.path.join(self.img_dir, jpg)\n",
    "        img = Image.open(imgfile).convert('RGB')\n",
    "\n",
    "        if self.transform:\n",
    "            augmented_img = self.transform(img)\n",
    "        else:\n",
    "            trans = transforms.Compose([\n",
    "                transforms.Resize(224),\n",
    "                transforms.CenterCrop(224),\n",
    "                transforms.ToTensor(),\n",
    "                transforms.Normalize(mean=[0.485, 0.456, 0.406],\n",
    "                                     std=[0.229, 0.224, 0.225]),\n",
    "            ])\n",
    "            augmented_img = trans(img)\n",
    "\n",
    "        return {'img': augmented_img, 'label': label}\n",
    "\n",
    "    def __len__(self):\n",
    "        return len(self.dataset)"
   ]
  },
  {
   "cell_type": "markdown",
   "metadata": {},
   "source": [
    "#### With Pretraining"
   ]
  },
  {
   "cell_type": "code",
   "execution_count": 6,
   "metadata": {
    "ExecuteTime": {
     "end_time": "2018-06-14T20:07:38.615118Z",
     "start_time": "2018-06-14T20:07:35.638052Z"
    }
   },
   "outputs": [],
   "source": [
    "device = torch.device('cuda:0')\n",
    "model = models.resnet18(pretrained=True).to(device)\n",
    "optimizer = optim.SGD(params=model.parameters(), lr=1e-1)\n",
    "criterion = nn.CrossEntropyLoss()"
   ]
  },
  {
   "cell_type": "code",
   "execution_count": 7,
   "metadata": {
    "ExecuteTime": {
     "end_time": "2018-06-14T20:07:38.663615Z",
     "start_time": "2018-06-14T20:07:38.617188Z"
    }
   },
   "outputs": [],
   "source": [
    "datasets = {x: dataset_flowers(mode=x) for x in ['train', 'val']}\n",
    "batchsize = 12\n",
    "dl = {x: DataLoader(dataset=datasets[x], batch_size=batchsize, shuffle=True) for x in ['train', 'val']}\n",
    "dataset_length = {x: len(datasets[x]) for x in ['train', 'val']}\n",
    "total_iter = {x: math.ceil(dataset_length[x] / batchsize) for x in ['train', 'val']}\n",
    "num_epochs = 5"
   ]
  },
  {
   "cell_type": "code",
   "execution_count": 8,
   "metadata": {
    "ExecuteTime": {
     "end_time": "2018-06-14T20:18:12.966290Z",
     "start_time": "2018-06-14T20:07:38.665452Z"
    },
    "scrolled": false
   },
   "outputs": [
    {
     "name": "stdout",
     "output_type": "stream",
     "text": [
      "Epoch 0/4\n",
      "Phase: Train \tLoss: 4.6645 \tAccuracy: 0.0526\n",
      "Phase: Val \tLoss: 3.8993 \tAccuracy: 0.0874\n",
      "\n",
      "Epoch 1/4\n",
      "Phase: Train \tLoss: 3.4183 \tAccuracy: 0.1667\n",
      "Phase: Val \tLoss: 3.8539 \tAccuracy: 0.2051\n",
      "\n",
      "Epoch 2/4\n",
      "Phase: Train \tLoss: 2.5908 \tAccuracy: 0.3337\n",
      "Phase: Val \tLoss: 2.1309 \tAccuracy: 0.4461\n",
      "\n",
      "Epoch 3/4\n",
      "Phase: Train \tLoss: 1.7284 \tAccuracy: 0.5242\n",
      "Phase: Val \tLoss: 1.5340 \tAccuracy: 0.5850\n",
      "\n",
      "Epoch 4/4\n",
      "Phase: Train \tLoss: 1.1329 \tAccuracy: 0.6838\n",
      "Phase: Val \tLoss: 0.9622 \tAccuracy: 0.7328\n",
      "\n",
      "Training complete in 10m 34s\n",
      "Best val acc: 0.732843\n"
     ]
    }
   ],
   "source": [
    "since = time.time()\n",
    "best_model_wts = copy.deepcopy(model.state_dict())\n",
    "best_acc = 0.0\n",
    "\n",
    "for epoch in range(num_epochs):\n",
    "    print('Epoch {}/{}'.format(epoch, num_epochs - 1))\n",
    "    \n",
    "    # each epoch has a training and a validation phase\n",
    "    for phase in ['train', 'val']:\n",
    "        iteration = 0\n",
    "        if phase == 'train':\n",
    "            model.train() \n",
    "        else:\n",
    "            model.eval()\n",
    "            \n",
    "        running_loss = 0.0\n",
    "        running_corrects = 0\n",
    "        \n",
    "        for data_dict in dl[phase]:\n",
    "            iteration += 1\n",
    "            data = data_dict['img'].to(device)  # [5,3,244,244], FloatTensor\n",
    "            label = data_dict['label'].long().to(device) # [5], LongTensor\n",
    "\n",
    "            optimizer.zero_grad()\n",
    "\n",
    "            # forward\n",
    "            # track history if only in train\n",
    "            with torch.set_grad_enabled(phase == 'train'):\n",
    "                output = model(data) # [5,1000], FloatTensor\n",
    "            #     print('output', output)\n",
    "\n",
    "                pred = (torch.argmax(output, dim=1)) # [5], FloatTensor\n",
    "            #     print('pred', pred)\n",
    "            #     print('label', label)\n",
    "\n",
    "                loss = criterion(output, label)\n",
    "\n",
    "                # backward + optimize only if in training phase\n",
    "                if phase == 'train':\n",
    "                    loss.backward()\n",
    "                    optimizer.step()\n",
    "\n",
    "            # minibatch_loss * minibatch_size\n",
    "            running_loss += loss.item() * label.shape[0]\n",
    "            running_corrects += sum(torch.eq(pred,label)).item()\n",
    "            \n",
    "            print('iter: {}/{}, running loss = {:.4f}'.format(iteration, total_iter[phase], running_loss), end='\\r')\n",
    "\n",
    "        epoch_loss = running_loss / dataset_length[phase]\n",
    "        epoch_acc = running_corrects / dataset_length[phase]\n",
    "        \n",
    "        print('Phase: {} \\tLoss: {:.4f} \\tAccuracy: {:.4f}'.format(\n",
    "                phase.capitalize(), epoch_loss, epoch_acc))\n",
    "        \n",
    "        if phase == 'val' and epoch_acc > best_acc:\n",
    "            best_acc = epoch_acc\n",
    "            best_model_wts = copy.deepcopy(model.state_dict())\n",
    "            \n",
    "    print()\n",
    "\n",
    "time_elapsed = time.time() - since\n",
    "print('Training complete in {:.0f}m {:.0f}s'.format(\n",
    "        time_elapsed // 60, time_elapsed % 60))\n",
    "print('Best val acc: {:4f}'.format(best_acc))\n",
    "model.load_state_dict(best_model_wts)"
   ]
  },
  {
   "cell_type": "code",
   "execution_count": null,
   "metadata": {},
   "outputs": [],
   "source": []
  },
  {
   "cell_type": "markdown",
   "metadata": {},
   "source": [
    "#### Pretraining with last layer removed"
   ]
  },
  {
   "cell_type": "code",
   "execution_count": 9,
   "metadata": {
    "ExecuteTime": {
     "end_time": "2018-06-14T20:18:12.971096Z",
     "start_time": "2018-06-14T20:18:12.968280Z"
    }
   },
   "outputs": [],
   "source": []
  },
  {
   "cell_type": "code",
   "execution_count": null,
   "metadata": {},
   "outputs": [],
   "source": []
  },
  {
   "cell_type": "markdown",
   "metadata": {},
   "source": [
    "#### Without Pretraining"
   ]
  }
 ],
 "metadata": {
  "kernelspec": {
   "display_name": "Python 3",
   "language": "python",
   "name": "python3"
  },
  "language_info": {
   "codemirror_mode": {
    "name": "ipython",
    "version": 3
   },
   "file_extension": ".py",
   "mimetype": "text/x-python",
   "name": "python",
   "nbconvert_exporter": "python",
   "pygments_lexer": "ipython3",
   "version": "3.6.5"
  },
  "toc": {
   "base_numbering": 1,
   "nav_menu": {},
   "number_sections": true,
   "sideBar": true,
   "skip_h1_title": false,
   "title_cell": "Table of Contents",
   "title_sidebar": "Contents",
   "toc_cell": false,
   "toc_position": {},
   "toc_section_display": true,
   "toc_window_display": false
  },
  "varInspector": {
   "cols": {
    "lenName": 16,
    "lenType": 16,
    "lenVar": 40
   },
   "kernels_config": {
    "python": {
     "delete_cmd_postfix": "",
     "delete_cmd_prefix": "del ",
     "library": "var_list.py",
     "varRefreshCmd": "print(var_dic_list())"
    },
    "r": {
     "delete_cmd_postfix": ") ",
     "delete_cmd_prefix": "rm(",
     "library": "var_list.r",
     "varRefreshCmd": "cat(var_dic_list()) "
    }
   },
   "types_to_exclude": [
    "module",
    "function",
    "builtin_function_or_method",
    "instance",
    "_Feature"
   ],
   "window_display": false
  }
 },
 "nbformat": 4,
 "nbformat_minor": 2
}
