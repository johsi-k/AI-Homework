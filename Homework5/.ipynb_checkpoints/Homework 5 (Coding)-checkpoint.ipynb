{
 "cells": [
  {
   "cell_type": "markdown",
   "metadata": {},
   "source": [
    "Keong Jo Hsi 1001685  \n",
    "Homework 5 Coding Part 2: RNN For Classification with LSTM"
   ]
  },
  {
   "cell_type": "markdown",
   "metadata": {},
   "source": [
    "Required files which are not included:\n",
    "- name dataset accessible as `/data/names/`"
   ]
  },
  {
   "cell_type": "code",
   "execution_count": 1,
   "metadata": {
    "ExecuteTime": {
     "end_time": "2018-06-28T20:05:57.596812Z",
     "start_time": "2018-06-28T20:05:57.334831Z"
    }
   },
   "outputs": [],
   "source": [
    "%matplotlib inline"
   ]
  },
  {
   "cell_type": "code",
   "execution_count": 2,
   "metadata": {
    "ExecuteTime": {
     "end_time": "2018-06-28T20:05:57.868537Z",
     "start_time": "2018-06-28T20:05:57.599103Z"
    }
   },
   "outputs": [],
   "source": [
    "from __future__ import unicode_literals, print_function, division\n",
    "from io import open\n",
    "import glob\n",
    "import os\n",
    "import random\n",
    "import copy\n",
    "from torch.utils.data import Dataset, DataLoader\n",
    "import unicodedata\n",
    "import string"
   ]
  },
  {
   "cell_type": "code",
   "execution_count": 3,
   "metadata": {
    "ExecuteTime": {
     "end_time": "2018-06-28T20:05:57.962814Z",
     "start_time": "2018-06-28T20:05:57.870854Z"
    },
    "scrolled": true
   },
   "outputs": [],
   "source": [
    "def findFiles(path): return glob.glob(path)\n",
    "\n",
    "all_letters = string.ascii_letters + \" .,;'\"\n",
    "n_letters = len(all_letters)\n",
    "\n",
    "def unicodeToAscii(s):\n",
    "    return ''.join(\n",
    "        c for c in unicodedata.normalize('NFD', s)\n",
    "        if unicodedata.category(c) != 'Mn'\n",
    "        and c in all_letters\n",
    "    )\n",
    "\n",
    "# Build the category_lines dictionary, a list of names per language\n",
    "category_lines = {}\n",
    "all_categories = []\n",
    "\n",
    "# Read a file and split into lines\n",
    "def readLines(filename):\n",
    "    lines = open(filename, encoding='utf-8').read().strip().split('\\n')\n",
    "    return [unicodeToAscii(line) for line in lines]\n",
    "\n",
    "# Partition data\n",
    "def partition(data, ratio=0.3):\n",
    "    shuffled = random.sample(data, k=len(data))\n",
    "    split_idx = int(len(shuffled)*0.3)\n",
    "    return shuffled[:split_idx], shuffled[split_idx:]\n",
    "\n",
    "for filename in findFiles('data/names/*.txt'):\n",
    "    filename_norm = os.path.normpath(filename)\n",
    "#     print(filename_norm)\n",
    "    category = filename_norm.split('\\\\')[-1].split('.')[0]\n",
    "    all_categories.append(category)\n",
    "    lines = readLines(filename_norm)\n",
    "#     print(lines)\n",
    "    category_lines[category] = partition(lines)\n",
    "\n",
    "n_categories = len(all_categories)"
   ]
  },
  {
   "cell_type": "code",
   "execution_count": 4,
   "metadata": {
    "ExecuteTime": {
     "end_time": "2018-06-28T20:05:57.969993Z",
     "start_time": "2018-06-28T20:05:57.964903Z"
    }
   },
   "outputs": [],
   "source": [
    "import torch\n",
    "\n",
    "# Find letter index from all_letters, e.g. \"a\" = 0\n",
    "def letterToIndex(letter):\n",
    "    return all_letters.find(letter)\n",
    "\n",
    "# Just for demonstration, turn a letter into a <1 x n_letters> Tensor\n",
    "def letterToTensor(letter):\n",
    "    tensor = torch.zeros(1, n_letters)\n",
    "    tensor[0][letterToIndex(letter)] = 1\n",
    "    return tensor\n",
    "\n",
    "# Turn a line into a <line_length x n_letters>,\n",
    "# or an array of one-hot letter vectors\n",
    "def lineToTensor(line):\n",
    "    tensor = torch.zeros(len(line), n_letters)\n",
    "    for li, letter in enumerate(line):\n",
    "        tensor[li][letterToIndex(letter)] = 1\n",
    "    return tensor\n",
    "\n",
    "# print(letterToTensor('J'))\n",
    "# print(lineToTensor('Jones').shape)"
   ]
  },
  {
   "cell_type": "code",
   "execution_count": 5,
   "metadata": {
    "ExecuteTime": {
     "end_time": "2018-06-28T20:05:57.977240Z",
     "start_time": "2018-06-28T20:05:57.972388Z"
    }
   },
   "outputs": [],
   "source": [
    "# category-index mapping\n",
    "category_index = {c:i for i, c in enumerate(all_categories)}\n",
    "    \n",
    "class WordDataset(Dataset):\n",
    "    def __init__(self, wordnamelist, train_test_idx):\n",
    "        self.word_cat_list = []\n",
    "        \n",
    "        for cat, words in category_lines.items():\n",
    "            for word in words[train_test_idx]:\n",
    "                name = lineToTensor(word)\n",
    "                category = torch.tensor([category_index[cat]])\n",
    "                self.word_cat_list.append((name, category))\n",
    "                \n",
    "        random.shuffle(self.word_cat_list)\n",
    "        \n",
    "    def __getitem__(self, index):\n",
    "        word, cat = self.word_cat_list[index]\n",
    "#         print('category', cat.shape, '\\n' 'word', word.shape)\n",
    "        return word, cat\n",
    "        \n",
    "    def __len__(self):\n",
    "        return len(self.word_cat_list)\n",
    "    "
   ]
  },
  {
   "cell_type": "code",
   "execution_count": 6,
   "metadata": {
    "ExecuteTime": {
     "end_time": "2018-06-28T20:05:58.173792Z",
     "start_time": "2018-06-28T20:05:58.170159Z"
    }
   },
   "outputs": [],
   "source": [
    "device = torch.device('cuda:0')"
   ]
  },
  {
   "cell_type": "code",
   "execution_count": 7,
   "metadata": {
    "ExecuteTime": {
     "end_time": "2018-06-28T20:05:58.356967Z",
     "start_time": "2018-06-28T20:05:58.353426Z"
    }
   },
   "outputs": [],
   "source": [
    "def collate(batch):\n",
    "    # batch = [(tensor, label), (tensor, label),...]\n",
    "    # sort batch in descending order of tensor sequence length\n",
    "    sorted_batch = sorted(batch, key=lambda x:x[0].shape[0], reverse=True)\n",
    "    \n",
    "    # sends each (tensor, label) in sorted batch into zip\n",
    "    tensor, label = zip(*sorted_batch)\n",
    "    \n",
    "#     print('label', label[0].shape)\n",
    "    return torch.nn.utils.rnn.pack_sequence(tensor), torch.cat(label)\n"
   ]
  },
  {
   "cell_type": "code",
   "execution_count": 8,
   "metadata": {
    "ExecuteTime": {
     "end_time": "2018-06-28T20:05:58.442374Z",
     "start_time": "2018-06-28T20:05:58.437192Z"
    }
   },
   "outputs": [],
   "source": [
    "import torch.nn as nn\n",
    "\n",
    "class LSTMmodel(nn.Module):    \n",
    "    def __init__(self, input_size, hidden_size, num_layers, num_classes, device):\n",
    "        super().__init__()\n",
    "        self.device = device\n",
    "        self.hidden_size = hidden_size\n",
    "        self.num_layers = num_layers\n",
    "        self.lstm = torch.nn.LSTM(input_size=input_size,\n",
    "                     hidden_size=hidden_size,\n",
    "                     num_layers = num_layers\n",
    "                    )\n",
    "        self.fc = torch.nn.Linear(hidden_size, num_classes)\n",
    "        \n",
    "    def forward(self, x):\n",
    "#         print('x','\\n',x)\n",
    "        # x is PackedSequence\n",
    "        h_0 = torch.zeros((self.num_layers, x.batch_sizes[0], self.hidden_size), device=self.device)\n",
    "        c_0 = torch.zeros((self.num_layers, x.batch_sizes[0], self.hidden_size), device=self.device)\n",
    "        output, (h_n, c_n) = self.lstm(x, (h_0, c_0))\n",
    "        output = self.fc(h_n[-1,:,:])\n",
    "        return output\n"
   ]
  },
  {
   "cell_type": "code",
   "execution_count": 9,
   "metadata": {
    "ExecuteTime": {
     "end_time": "2018-06-28T20:05:58.624434Z",
     "start_time": "2018-06-28T20:05:58.616932Z"
    }
   },
   "outputs": [],
   "source": [
    "def train(model, train_dataloader, test_dataloader, train_data_len, device=device):\n",
    "    model = model.to(device)\n",
    "    cross_entropy = nn.CrossEntropyLoss(size_average=False)\n",
    "    optimizer = torch.optim.SGD(model.parameters(), lr=0.1)\n",
    "    \n",
    "    best_model_weights = copy.deepcopy(model.state_dict())\n",
    "    best_acc = 0.0\n",
    "    total_iter = train_data_len / train_dataloader.batch_size\n",
    "    stats = []\n",
    "    saved_epoch = 0\n",
    "    \n",
    "    for epoch in range(1,6):\n",
    "        running_loss = 0\n",
    "        totals = 0\n",
    "        iteration = 0\n",
    "        model.train()      \n",
    "        \n",
    "        for packedseq, label in train_dataloader:\n",
    "            if device.type == 'cuda':\n",
    "                packedseq = packedseq.cuda()\n",
    "            elif device.type == \"cpu\":\n",
    "                packedseq = packedseq.cpu()\n",
    "            label = label.to(device)\n",
    "            \n",
    "            iteration += 1\n",
    "            \n",
    "            optimizer.zero_grad()\n",
    "            output = model(packedseq)\n",
    "            \n",
    "            loss = cross_entropy(output, label)\n",
    "            loss.backward()\n",
    "            optimizer.step()\n",
    "            \n",
    "            running_loss += loss.item()\n",
    "            totals += label.shape[0]\n",
    "            \n",
    "            print('iter: {}/{}, running loss = {:.4f}'.format(iteration, total_iter, running_loss), end='\\r')\n",
    "            \n",
    "        training_loss = running_loss / totals\n",
    "        test_loss, test_acc = test(model, test_dataloader, device=device)\n",
    "        stats.append((training_loss, test_loss, test_acc))\n",
    "                   \n",
    "        if test_acc > best_acc:\n",
    "            best_acc = test_acc\n",
    "            saved_epoch = epoch\n",
    "            best_model_weights = copy.deepcopy(model.state_dict())\n",
    "            \n",
    "        print('Epoch: {} \\tTraining Loss: {:.4f} \\tTest Loss: {:.4f} \\tTest Accuracy: {:.4f}'.format(\n",
    "               epoch, training_loss, test_loss, test_acc))\n",
    "        \n",
    "    print('Best Test Acc: {:4f}'.format(best_acc))\n",
    "    model.load_state_dict(best_model_weights)\n",
    "    \n",
    "    return stats, saved_epoch"
   ]
  },
  {
   "cell_type": "code",
   "execution_count": 10,
   "metadata": {
    "ExecuteTime": {
     "end_time": "2018-06-28T20:05:59.169924Z",
     "start_time": "2018-06-28T20:05:59.164773Z"
    }
   },
   "outputs": [],
   "source": [
    "def test(model, dataloader, device=device):\n",
    "    cross_entropy = nn.CrossEntropyLoss(size_average=False)\n",
    "    model = model.to(device)\n",
    "    model.eval()\n",
    "    \n",
    "    total_loss = 0\n",
    "    total_corrects = 0\n",
    "    count = 0\n",
    "  \n",
    "    with torch.no_grad():\n",
    "        for packedseq, label in dataloader:\n",
    "            if device.type == 'cuda':\n",
    "                packedseq = packedseq.cuda()\n",
    "            elif device.type == \"cpu\":\n",
    "                packedseq = packedseq.cpu()\n",
    "            label = label.to(device)\n",
    "            \n",
    "            output = model(packedseq)\n",
    "            \n",
    "            loss = cross_entropy(output, label)\n",
    "            total_loss += loss.item()\n",
    "            \n",
    "            correct = output.argmax(dim=1) == label\n",
    "            total_corrects += correct.sum().item()\n",
    "            count += label.shape[0]\n",
    "            \n",
    "    loss = total_loss/count\n",
    "    accuracy = total_corrects/count\n",
    "    \n",
    "    return loss, accuracy"
   ]
  },
  {
   "cell_type": "markdown",
   "metadata": {},
   "source": [
    "#### Task 1"
   ]
  },
  {
   "cell_type": "code",
   "execution_count": 10,
   "metadata": {
    "ExecuteTime": {
     "end_time": "2018-06-28T18:23:31.262865Z",
     "start_time": "2018-06-28T18:23:30.135158Z"
    }
   },
   "outputs": [],
   "source": [
    "train_data = WordDataset(category_lines, 1)\n",
    "test_data = WordDataset(category_lines, 0)\n",
    "\n",
    "train_dataloader = DataLoader(train_data, batch_size=5, shuffle=True, collate_fn=collate)\n",
    "test_dataloader = DataLoader(test_data, batch_size=5, shuffle=True, collate_fn=collate)"
   ]
  },
  {
   "cell_type": "code",
   "execution_count": 11,
   "metadata": {
    "ExecuteTime": {
     "end_time": "2018-06-28T18:29:56.969469Z",
     "start_time": "2018-06-28T18:23:31.264800Z"
    },
    "scrolled": false
   },
   "outputs": [
    {
     "name": "stdout",
     "output_type": "stream",
     "text": [
      "Epoch: 1 \tTraining Loss: 1.3680 \tTest Loss: 1.1654 \tTest Accuracy: 0.6432\n",
      "Epoch: 2 \tTraining Loss: 1.1450 \tTest Loss: 1.1042 \tTest Accuracy: 0.6537\n",
      "Epoch: 3 \tTraining Loss: 1.0870 \tTest Loss: 1.0961 \tTest Accuracy: 0.6580\n",
      "Epoch: 4 \tTraining Loss: 1.0637 \tTest Loss: 1.0770 \tTest Accuracy: 0.6760\n",
      "Epoch: 5 \tTraining Loss: 1.0497 \tTest Loss: 1.0816 \tTest Accuracy: 0.6828\n",
      "Best Test Acc: 0.682793\n",
      "No. of layers: 1 \tNo. of hidden layers: 4 \tTest Loss: 1.0816 \tTest Accuracy: 0.6828\n",
      "Epoch: 1 \tTraining Loss: 1.2382 \tTest Loss: 1.0425 \tTest Accuracy: 0.6780\n",
      "Epoch: 2 \tTraining Loss: 0.9415 \tTest Loss: 0.8693 \tTest Accuracy: 0.7400\n",
      "Epoch: 3 \tTraining Loss: 0.8427 \tTest Loss: 0.8411 \tTest Accuracy: 0.7453\n",
      "Epoch: 4 \tTraining Loss: 0.7856 \tTest Loss: 0.7810 \tTest Accuracy: 0.7707\n",
      "Epoch: 5 \tTraining Loss: 0.7483 \tTest Loss: 0.7475 \tTest Accuracy: 0.7762\n",
      "Best Test Acc: 0.776226\n",
      "No. of layers: 1 \tNo. of hidden layers: 16 \tTest Loss: 0.7475 \tTest Accuracy: 0.7762\n",
      "Epoch: 1 \tTraining Loss: 1.2551 \tTest Loss: 0.9954 \tTest Accuracy: 0.6869\n",
      "Epoch: 2 \tTraining Loss: 0.9244 \tTest Loss: 0.8436 \tTest Accuracy: 0.7385\n",
      "Epoch: 3 \tTraining Loss: 0.7910 \tTest Loss: 0.8135 \tTest Accuracy: 0.7564\n",
      "Epoch: 4 \tTraining Loss: 0.6990 \tTest Loss: 0.7038 \tTest Accuracy: 0.7889\n",
      "Epoch: 5 \tTraining Loss: 0.6335 \tTest Loss: 0.6799 \tTest Accuracy: 0.7962\n",
      "Best Test Acc: 0.796176\n",
      "No. of layers: 1 \tNo. of hidden layers: 64 \tTest Loss: 0.6799 \tTest Accuracy: 0.7962\n",
      "Epoch: 1 \tTraining Loss: 1.5771 \tTest Loss: 1.4288 \tTest Accuracy: 0.5533\n",
      "Epoch: 2 \tTraining Loss: 1.3859 \tTest Loss: 1.2773 \tTest Accuracy: 0.6268\n",
      "Epoch: 3 \tTraining Loss: 1.2211 \tTest Loss: 1.1740 \tTest Accuracy: 0.6549\n",
      "Epoch: 4 \tTraining Loss: 1.1509 \tTest Loss: 1.1224 \tTest Accuracy: 0.6722\n",
      "Epoch: 5 \tTraining Loss: 1.1166 \tTest Loss: 1.1030 \tTest Accuracy: 0.6678\n",
      "Best Test Acc: 0.672153\n",
      "No. of layers: 2 \tNo. of hidden layers: 4 \tTest Loss: 1.1224 \tTest Accuracy: 0.6722\n",
      "Epoch: 1 \tTraining Loss: 1.4502 \tTest Loss: 1.1600 \tTest Accuracy: 0.6582\n",
      "Epoch: 2 \tTraining Loss: 1.0614 \tTest Loss: 1.0274 \tTest Accuracy: 0.6821\n",
      "Epoch: 3 \tTraining Loss: 0.9302 \tTest Loss: 0.9941 \tTest Accuracy: 0.7007\n",
      "Epoch: 4 \tTraining Loss: 0.8629 \tTest Loss: 0.8858 \tTest Accuracy: 0.7322\n",
      "Epoch: 5 \tTraining Loss: 0.8059 \tTest Loss: 0.7964 \tTest Accuracy: 0.7568\n",
      "Best Test Acc: 0.756775\n",
      "No. of layers: 2 \tNo. of hidden layers: 16 \tTest Loss: 0.7964 \tTest Accuracy: 0.7568\n",
      "Epoch: 1 \tTraining Loss: 1.4399 \tTest Loss: 1.1126 \tTest Accuracy: 0.6655\n",
      "Epoch: 2 \tTraining Loss: 1.0279 \tTest Loss: 0.9309 \tTest Accuracy: 0.7247\n",
      "Epoch: 3 \tTraining Loss: 0.8744 \tTest Loss: 0.8476 \tTest Accuracy: 0.7268\n",
      "Epoch: 4 \tTraining Loss: 0.7673 \tTest Loss: 0.8162 \tTest Accuracy: 0.7458\n",
      "Epoch: 5 \tTraining Loss: 0.6944 \tTest Loss: 0.7805 \tTest Accuracy: 0.7669\n",
      "Best Test Acc: 0.766916\n",
      "No. of layers: 2 \tNo. of hidden layers: 64 \tTest Loss: 0.7805 \tTest Accuracy: 0.7669\n"
     ]
    }
   ],
   "source": [
    "for num_layers in (1,2):\n",
    "    for num_hidden in (4, 16, 64):\n",
    "        model = LSTMmodel(input_size=n_letters, hidden_size=num_hidden, num_layers=num_layers, num_classes=n_categories, device=device)\n",
    "        train(model, train_dataloader=train_dataloader, test_dataloader=test_dataloader, train_data_len=len(train_data), device=device)\n",
    "        test_loss, test_acc = test(model, test_dataloader)\n",
    "        \n",
    "        print('No. of layers: {} \\tNo. of hidden layers: {} \\tTest Loss: {:.4f} \\tTest Accuracy: {:.4f}'.format(\n",
    "               num_layers, num_hidden, test_loss, test_acc))"
   ]
  },
  {
   "cell_type": "markdown",
   "metadata": {},
   "source": [
    "#### Task 2"
   ]
  },
  {
   "cell_type": "code",
   "execution_count": 11,
   "metadata": {
    "ExecuteTime": {
     "end_time": "2018-06-28T20:09:46.087266Z",
     "start_time": "2018-06-28T20:06:05.653955Z"
    }
   },
   "outputs": [
    {
     "name": "stdout",
     "output_type": "stream",
     "text": [
      "Epoch: 1 \tTraining Loss: 1.2292 \tTest Loss: 0.9894 \tTest Accuracy: 0.6946\n",
      "Epoch: 2 \tTraining Loss: 0.9096 \tTest Loss: 0.8923 \tTest Accuracy: 0.7350\n",
      "Epoch: 3 \tTraining Loss: 0.7768 \tTest Loss: 0.8289 \tTest Accuracy: 0.7448\n",
      "Epoch: 4 \tTraining Loss: 0.6855 \tTest Loss: 0.7367 \tTest Accuracy: 0.7822\n",
      "Epoch: 5 \tTraining Loss: 0.6179 \tTest Loss: 0.6909 \tTest Accuracy: 0.7912\n",
      "Best Test Acc: 0.791189\n",
      "Epoch: 1 \tTraining Loss: 1.2759 \tTest Loss: 0.9938 \tTest Accuracy: 0.7011\n",
      "Epoch: 2 \tTraining Loss: 0.9262 \tTest Loss: 0.8685 \tTest Accuracy: 0.7397\n",
      "Epoch: 3 \tTraining Loss: 0.7920 \tTest Loss: 0.7713 \tTest Accuracy: 0.7563\n",
      "Epoch: 4 \tTraining Loss: 0.6892 \tTest Loss: 0.7576 \tTest Accuracy: 0.7648\n",
      "Epoch: 5 \tTraining Loss: 0.6146 \tTest Loss: 0.7015 \tTest Accuracy: 0.7845\n",
      "Best Test Acc: 0.784539\n",
      "Epoch: 1 \tTraining Loss: 1.3563 \tTest Loss: 1.1552 \tTest Accuracy: 0.6487\n",
      "Epoch: 2 \tTraining Loss: 0.9754 \tTest Loss: 0.8986 \tTest Accuracy: 0.7249\n",
      "Epoch: 3 \tTraining Loss: 0.8085 \tTest Loss: 0.8572 \tTest Accuracy: 0.7446\n",
      "Epoch: 4 \tTraining Loss: 0.7074 \tTest Loss: 0.8419 \tTest Accuracy: 0.7470\n",
      "Epoch: 5 \tTraining Loss: 0.6358 \tTest Loss: 0.7168 \tTest Accuracy: 0.7837\n",
      "Best Test Acc: 0.783707\n"
     ]
    }
   ],
   "source": [
    "batch_results = {}\n",
    "for batchsize in (1, 10, 30):\n",
    "    train_data = WordDataset(category_lines, 1)\n",
    "    test_data = WordDataset(category_lines, 0)\n",
    "\n",
    "    train_dataloader = DataLoader(train_data, batch_size=batchsize, shuffle=True, collate_fn=collate)\n",
    "    test_dataloader = DataLoader(test_data, batch_size=batchsize, shuffle=True, collate_fn=collate)\n",
    "    \n",
    "    model = LSTMmodel(input_size=n_letters, hidden_size=100, num_layers=1, num_classes=n_categories, device=device)\n",
    "    epoch_stats = train(model, train_dataloader, test_dataloader, train_data_len=len(train_data), device=device)\n",
    "    batch_results[batchsize] = epoch_stats"
   ]
  },
  {
   "cell_type": "code",
   "execution_count": 12,
   "metadata": {
    "ExecuteTime": {
     "end_time": "2018-06-28T20:10:41.535700Z",
     "start_time": "2018-06-28T20:10:41.528834Z"
    }
   },
   "outputs": [
    {
     "data": {
      "text/plain": [
       "{1: ([(1.2291953522820367, 0.9894434254068389, 0.6945968412302577),\n",
       "   (0.9096335014685415, 0.8923050075794198, 0.7349958437240233),\n",
       "   (0.7768157233689247, 0.8288507408830194, 0.744804655029094),\n",
       "   (0.6855208284697685, 0.7366795150617312, 0.7822111388196176),\n",
       "   (0.6179165875168086, 0.6909183918389299, 0.7911886949293433)],\n",
       "  5),\n",
       " 10: ([(1.2758992401038662, 0.993815649338593, 0.7010806317539484),\n",
       "   (0.9261587707863584, 0.8684757727736349, 0.7396508728179552),\n",
       "   (0.7920083902122812, 0.7712903510305352, 0.7562759767248546),\n",
       "   (0.6891881162627288, 0.7576270546996385, 0.7647547797173733),\n",
       "   (0.6145687051209102, 0.7015453222485651, 0.7845386533665836)],\n",
       "  5),\n",
       " 30: ([(1.3563141669849896, 1.155183184711713, 0.6487115544472153),\n",
       "   (0.9754251672343311, 0.8985797029084597, 0.7248545303408146),\n",
       "   (0.8084656734522176, 0.857158409191585, 0.7446384039900249),\n",
       "   (0.7073525530115555, 0.8418750333270726, 0.7469659185369909),\n",
       "   (0.6357567229780705, 0.7167998278230205, 0.7837073981712386)],\n",
       "  5)}"
      ]
     },
     "execution_count": 12,
     "metadata": {},
     "output_type": "execute_result"
    }
   ],
   "source": [
    "batch_results"
   ]
  },
  {
   "cell_type": "code",
   "execution_count": 13,
   "metadata": {
    "ExecuteTime": {
     "end_time": "2018-06-28T20:11:25.829545Z",
     "start_time": "2018-06-28T20:11:25.826887Z"
    }
   },
   "outputs": [],
   "source": [
    "from matplotlib import pyplot as plt"
   ]
  },
  {
   "cell_type": "code",
   "execution_count": 18,
   "metadata": {
    "ExecuteTime": {
     "end_time": "2018-06-28T20:12:31.412689Z",
     "start_time": "2018-06-28T20:12:31.267153Z"
    }
   },
   "outputs": [
    {
     "data": {
      "image/png": "[encoded data removed]",
      "text/plain": [
       "<Figure size 576x432 with 1 Axes>"
      ]
     },
     "metadata": {},
     "output_type": "display_data"
    }
   ],
   "source": [
    "fig,ax = plt.subplots(figsize=(8,6))\n",
    "\n",
    "for batch_size, (train_epoch_stats, best_epoch) in batch_results.items():\n",
    "    train_loss, test_loss, test_accuracy = zip(*train_epoch_stats)\n",
    "    epochs = range(1, 1+len(train_loss))\n",
    "    ax.plot(epochs, train_loss, \"-\", label = \"batch size {}\".format(batch_size))\n",
    "ax.set_xticks(epochs)\n",
    "ax.set_xlabel(\"Epochs\")\n",
    "ax.set_ylabel(\"Loss\")\n",
    "ax.set_ylim([0,2])\n",
    "ax.set_title(\"Training loss\")\n",
    "ax.legend(loc=\"upper right\");"
   ]
  },
  {
   "cell_type": "code",
   "execution_count": 20,
   "metadata": {
    "ExecuteTime": {
     "end_time": "2018-06-28T20:12:55.146072Z",
     "start_time": "2018-06-28T20:12:55.021250Z"
    }
   },
   "outputs": [
    {
     "data": {
      "image/png": "[encoded data removed]",
      "text/plain": [
       "<Figure size 576x432 with 1 Axes>"
      ]
     },
     "metadata": {},
     "output_type": "display_data"
    }
   ],
   "source": [
    "fig,ax = plt.subplots(figsize=(8,6))\n",
    "for batch_size, (train_epoch_stats, best_epoch) in batch_results.items():\n",
    "    train_loss, test_loss, test_accuracy = zip(*train_epoch_stats)\n",
    "    epochs = range(1, 1+len(test_loss))\n",
    "    ax.plot(epochs, test_loss, \"-\", label = \"batch size {}\".format(batch_size))\n",
    "ax.set_xticks(epochs)\n",
    "ax.set_xlabel(\"Epochs\")\n",
    "ax.set_ylabel(\"Loss\")\n",
    "ax.set_ylim([0,2])\n",
    "ax.set_title(\"Test loss\")\n",
    "ax.legend(loc=\"upper right\")\n",
    "plt.show()"
   ]
  },
  {
   "cell_type": "code",
   "execution_count": 21,
   "metadata": {
    "ExecuteTime": {
     "end_time": "2018-06-28T20:13:04.896637Z",
     "start_time": "2018-06-28T20:13:04.779507Z"
    }
   },
   "outputs": [
    {
     "data": {
      "image/png": "[encoded data removed]",
      "text/plain": [
       "<Figure size 576x432 with 1 Axes>"
      ]
     },
     "metadata": {},
     "output_type": "display_data"
    }
   ],
   "source": [
    "fig,ax = plt.subplots(figsize=(8,6))\n",
    "for batch_size, (train_epoch_stats, best_epoch) in batch_results.items():\n",
    "    train_loss, test_loss, test_accuracy = zip(*train_epoch_stats)\n",
    "    epochs = range(1, 1+len(test_accuracy))\n",
    "    ax.plot(epochs, test_accuracy, \"-\", label = \"batch size {}\".format(batch_size))\n",
    "ax.set_xticks(epochs)\n",
    "ax.set_xlabel(\"Epochs\")\n",
    "ax.set_ylabel(\"Accuracy\")\n",
    "ax.set_ylim([0,1])\n",
    "ax.set_title(\"Accuracy\")\n",
    "ax.legend(loc=\"upper right\")\n",
    "plt.show()"
   ]
  }
 ],
 "metadata": {
  "kernelspec": {
   "display_name": "Python 3",
   "language": "python",
   "name": "python3"
  },
  "language_info": {
   "codemirror_mode": {
    "name": "ipython",
    "version": 3
   },
   "file_extension": ".py",
   "mimetype": "text/x-python",
   "name": "python",
   "nbconvert_exporter": "python",
   "pygments_lexer": "ipython3",
   "version": "3.6.5"
  },
  "toc": {
   "base_numbering": 1,
   "nav_menu": {},
   "number_sections": true,
   "sideBar": true,
   "skip_h1_title": false,
   "title_cell": "Table of Contents",
   "title_sidebar": "Contents",
   "toc_cell": false,
   "toc_position": {},
   "toc_section_display": true,
   "toc_window_display": false
  },
  "varInspector": {
   "cols": {
    "lenName": 16,
    "lenType": 16,
    "lenVar": 40
   },
   "kernels_config": {
    "python": {
     "delete_cmd_postfix": "",
     "delete_cmd_prefix": "del ",
     "library": "var_list.py",
     "varRefreshCmd": "print(var_dic_list())"
    },
    "r": {
     "delete_cmd_postfix": ") ",
     "delete_cmd_prefix": "rm(",
     "library": "var_list.r",
     "varRefreshCmd": "cat(var_dic_list()) "
    }
   },
   "position": {
    "height": "459px",
    "left": "919px",
    "right": "20px",
    "top": "109px",
    "width": "533px"
   },
   "types_to_exclude": [
    "module",
    "function",
    "builtin_function_or_method",
    "instance",
    "_Feature"
   ],
   "window_display": false
  }
 },
 "nbformat": 4,
 "nbformat_minor": 1
}
