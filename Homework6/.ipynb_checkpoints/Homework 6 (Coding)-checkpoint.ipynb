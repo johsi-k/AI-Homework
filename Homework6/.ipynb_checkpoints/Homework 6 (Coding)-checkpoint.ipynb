{
 "cells": [
  {
   "cell_type": "code",
   "execution_count": 1,
   "metadata": {
    "ExecuteTime": {
     "end_time": "2018-07-02T12:21:39.827413Z",
     "start_time": "2018-07-02T12:21:39.573375Z"
    }
   },
   "outputs": [],
   "source": [
    "%matplotlib inline"
   ]
  },
  {
   "cell_type": "code",
   "execution_count": 2,
   "metadata": {
    "ExecuteTime": {
     "end_time": "2018-07-02T12:21:39.967552Z",
     "start_time": "2018-07-02T12:21:39.829290Z"
    },
    "scrolled": false
   },
   "outputs": [
    {
     "data": {
      "text/plain": [
       "\"SPOCK: It can't be the screen then. Definitely something out there, Captain, headed this way.\""
      ]
     },
     "metadata": {},
     "output_type": "display_data"
    }
   ],
   "source": [
    "# reading the csv\n",
    "category_lines = {'st' : []}\n",
    "filterwords = ['NEXTEPISODE']\n",
    "with open('./star_trek_transcripts_all_episodes_f.csv','r') as f:\n",
    "    for line in f:\n",
    "        v=line.strip().replace('=','').replace('/',' ').replace('+',' ').replace('(',' ') \\\n",
    "        .replace('[',' ').replace(')',' ').replace(']',' ').replace(', ','&').replace(',','^').replace('&',', ').split('^')\n",
    "        for w in v:\n",
    "            if (w not in filterwords) and (len(w)>1):\n",
    "                category_lines['st'].append(w)\n",
    "/display category_lines['st'][2]"
   ]
  },
  {
   "cell_type": "code",
   "execution_count": 2,
   "metadata": {
    "ExecuteTime": {
     "end_time": "2018-07-02T13:30:54.841267Z",
     "start_time": "2018-07-02T13:30:54.830585Z"
    }
   },
   "outputs": [
    {
     "data": {
      "text/plain": [
       "70"
      ]
     },
     "execution_count": 2,
     "metadata": {},
     "output_type": "execute_result"
    }
   ],
   "source": [
    "# obtain characters\n",
    "import string\n",
    "all_letters = string.ascii_letters + string.digits + \" '.,:?!\\n\"\n",
    "n_letters = len(all_letters)\n",
    "n_letters"
   ]
  },
  {
   "cell_type": "code",
   "execution_count": 7,
   "metadata": {
    "ExecuteTime": {
     "end_time": "2018-07-02T13:37:33.439187Z",
     "start_time": "2018-07-02T13:37:33.432008Z"
    }
   },
   "outputs": [
    {
     "data": {
      "text/plain": [
       "tensor([[ 0.,  0.,  0.,  0.,  0.,  0.,  0.,  0.,  0.,  0.,  0.,  0.,\n",
       "          0.,  0.,  0.,  0.,  0.,  0.,  0.,  0.,  0.,  0.,  0.,  0.,\n",
       "          0.,  0.,  0.,  0.,  0.,  0.,  0.,  0.,  0.,  0.,  0.,  0.,\n",
       "          0.,  0.,  0.,  0.,  0.,  0.,  0.,  0.,  0.,  0.,  0.,  0.,\n",
       "          0.,  0.,  0.,  0.,  0.,  0.,  0.,  0.,  0.,  0.,  0.,  0.,\n",
       "          0.,  0.,  0.,  0.,  0.,  0.,  0.,  0.,  0.,  1.]])"
      ]
     },
     "execution_count": 7,
     "metadata": {},
     "output_type": "execute_result"
    }
   ],
   "source": [
    "import torch\n",
    "\n",
    "# Find letter index from all_letters, e.g. \"a\" = 0\n",
    "def letterToIndex(letter):\n",
    "    return all_letters.find(letter)\n",
    "\n",
    "# Just for demonstration, turn a letter into a <1 x n_letters> Tensor\n",
    "def IndexToTensor(index):\n",
    "    tensor = torch.zeros(1, n_letters)\n",
    "    tensor[0][index] = 1\n",
    "    return tensor\n",
    "\n",
    "# Turn a line into a <line_length x n_letters>,\n",
    "# or an array of one-hot letter vectors\n",
    "def lineToTensor(line,dtype):\n",
    "    tensor = torch.zeros(len(line), n_letters, dtype=dtype)\n",
    "    for li, letter in enumerate(line):\n",
    "        tensor[li][letterToIndex(letter)] = 1\n",
    "    return tensor\n",
    "\n",
    "idx = letterToIndex('\\n')\n",
    "IndexToTensor(idx)\n",
    "# idx"
   ]
  },
  {
   "cell_type": "code",
   "execution_count": 5,
   "metadata": {
    "ExecuteTime": {
     "end_time": "2018-07-02T12:21:40.568525Z",
     "start_time": "2018-07-02T12:21:40.562880Z"
    }
   },
   "outputs": [],
   "source": [
    "import random\n",
    "def partition(data, ratio=0.3):\n",
    "    shuffled = random.sample(data, k=len(data))\n",
    "    split_idx = int(len(shuffled)*0.3)\n",
    "    return shuffled[:split_idx], shuffled[split_idx:]"
   ]
  },
  {
   "cell_type": "code",
   "execution_count": 6,
   "metadata": {
    "ExecuteTime": {
     "end_time": "2018-07-02T12:21:41.238364Z",
     "start_time": "2018-07-02T12:21:41.231041Z"
    }
   },
   "outputs": [],
   "source": [
    "from torch.utils.data import Dataset, DataLoader\n",
    "\n",
    "class WordDataset(Dataset):\n",
    "    def __init__(self, train_test_idx): # test=0, train=1\n",
    "        self.train_test_idx = train_test_idx\n",
    "        self.char_label_list = partition(category_lines['st'])[self.train_test_idx]\n",
    "        \n",
    "    def __getitem__(self, index):\n",
    "        line = self.char_label_list[index] + '\\n'\n",
    "        label = torch.tensor([letterToIndex(letter) for letter in line[1:]], dtype=torch.long)\n",
    "        word = lineToTensor(line[:-1], dtype=torch.float)\n",
    "        return word, label # tuple of two tensors\n",
    "        \n",
    "    def __len__(self):\n",
    "        return len(self.char_label_list)"
   ]
  },
  {
   "cell_type": "code",
   "execution_count": 7,
   "metadata": {
    "ExecuteTime": {
     "end_time": "2018-07-02T12:21:42.047712Z",
     "start_time": "2018-07-02T12:21:42.043107Z"
    }
   },
   "outputs": [],
   "source": [
    "# x=WordDataset(0)[0]\n",
    "# x[0].shape, x[1].shape"
   ]
  },
  {
   "cell_type": "code",
   "execution_count": 8,
   "metadata": {
    "ExecuteTime": {
     "end_time": "2018-07-02T12:21:43.450452Z",
     "start_time": "2018-07-02T12:21:43.446460Z"
    }
   },
   "outputs": [],
   "source": [
    "def collate(batch):\n",
    "    # batch = [(tensor, label), (tensor, label),...]\n",
    "    # sort batch in descending order of tensor sequence length\n",
    "#     print(batch)\n",
    "    sorted_batch = sorted(batch, key=lambda x:x[0].shape[0], reverse=True)\n",
    "    \n",
    "    # sends each (tensor, label) in sorted batch into zip\n",
    "    tensor, label = zip(*sorted_batch)\n",
    "    \n",
    "#     print('label', label[0].shape)\n",
    "    return torch.nn.utils.rnn.pack_sequence(tensor), torch.nn.utils.rnn.pack_sequence(label)"
   ]
  },
  {
   "cell_type": "markdown",
   "metadata": {},
   "source": [
    "Creating the Network\n",
    "====================\n",
    "\n",
    "\n",
    "\n"
   ]
  },
  {
   "cell_type": "code",
   "execution_count": 9,
   "metadata": {
    "ExecuteTime": {
     "end_time": "2018-07-02T12:21:44.461536Z",
     "start_time": "2018-07-02T12:21:44.458707Z"
    }
   },
   "outputs": [],
   "source": [
    "device = torch.device('cuda:0')"
   ]
  },
  {
   "cell_type": "code",
   "execution_count": 10,
   "metadata": {
    "ExecuteTime": {
     "end_time": "2018-07-02T12:21:44.751803Z",
     "start_time": "2018-07-02T12:21:44.745934Z"
    }
   },
   "outputs": [],
   "source": [
    "import torch.nn as nn\n",
    "\n",
    "class LSTMmodel(nn.Module):    \n",
    "    def __init__(self, input_size, hidden_size, num_layers, dropout, num_chars, device):\n",
    "        super().__init__()\n",
    "        self.device = device\n",
    "        self.hidden_size = hidden_size\n",
    "        self.num_layers = num_layers\n",
    "        self.dropout = nn.Dropout(0.1)\n",
    "        self.lstm = torch.nn.LSTM(input_size=input_size,\n",
    "                                  hidden_size=hidden_size,\n",
    "                                  num_layers=num_layers,\n",
    "                                  )\n",
    "        self.fc = torch.nn.Linear(hidden_size, num_chars)\n",
    "        \n",
    "    def forward(self, x):\n",
    "#         print('x', x.data.dtype)\n",
    "        # x is PackedSequence\n",
    "        h_0 = torch.zeros((self.num_layers, x.batch_sizes[0], self.hidden_size), device=self.device)\n",
    "        c_0 = torch.zeros((self.num_layers, x.batch_sizes[0], self.hidden_size), device=self.device)\n",
    "        \n",
    "#         print('h0', h_0.dtype)\n",
    "#         print('c0', c_0.dtype)\n",
    "        \n",
    "        output, (h_n, c_n) = self.lstm(x, (h_0, c_0))\n",
    "        # output = torch.nn.utils.rnn.PackedSequence of shape (seq_len, batch, num_directions * hidden_size)\n",
    "        output = self.dropout(output.data)\n",
    "        output = self.fc(output)\n",
    "        return output\n",
    "    \n",
    "    def sample(self, char, temp):\n",
    "        letter_indices = []\n",
    "        char_idx = letterToIndex(char)\n",
    "        \n",
    "        while(char_idx != 69):\n",
    "            letter_indices.append(char_idx)\n",
    "            char_tensor = torch.nn.utils.rnn.pack_sequence(IndexToTensor(char_idx))\n",
    "            output = self.forward(char_tensor) # (1 x #chars)\n",
    "            output = output / temp\n",
    "            output = torch.nn.functional.softmax(output, dim=1)\n",
    "            output = torch.multinomial(output, 1) # (1 x 1)\n",
    "            char_idx = output.item()\n",
    "            "
   ]
  },
  {
   "cell_type": "code",
   "execution_count": 11,
   "metadata": {
    "ExecuteTime": {
     "end_time": "2018-07-02T12:21:45.722461Z",
     "start_time": "2018-07-02T12:21:45.714585Z"
    }
   },
   "outputs": [],
   "source": [
    "import copy\n",
    "def train(model, train_dataloader, test_dataloader, train_data_len, device=device):\n",
    "    model = model.to(device)\n",
    "    cross_entropy = nn.CrossEntropyLoss()\n",
    "    optimizer = torch.optim.SGD(model.parameters(), lr=0.1)\n",
    "    \n",
    "    best_model_weights = copy.deepcopy(model.state_dict())\n",
    "    best_acc = 0.0\n",
    "    total_iter = train_data_len / train_dataloader.batch_size  # len(train_dataloader)\n",
    "    stats = []\n",
    "    saved_epoch = 0\n",
    "    \n",
    "    for epoch in range(1,6):\n",
    "        running_loss = 0\n",
    "        totals = 0\n",
    "        iteration = 0\n",
    "        model.train()\n",
    "        \n",
    "#         print(len(train_dataloader))\n",
    "        \n",
    "        for packedseq, label in train_dataloader:\n",
    "            if device.type == 'cuda':\n",
    "                packedseq = packedseq.cuda()\n",
    "                label = label.cuda()\n",
    "            elif device.type == \"cpu\":\n",
    "                packedseq = packedseq.cpu()\n",
    "                label = label.cpu()\n",
    "            \n",
    "            iteration += 1\n",
    "            \n",
    "            optimizer.zero_grad()\n",
    "            output = model(packedseq)\n",
    "            \n",
    "#             print('output', output, output.shape)\n",
    "#             print('label', label, label.data.shape)\n",
    "            \n",
    "            loss = cross_entropy(output, label.data)\n",
    "            loss.backward()\n",
    "            optimizer.step()\n",
    "            \n",
    "            running_loss += loss.item() * label.data.shape[0]\n",
    "            \n",
    "            totals += label.data.shape[0]\n",
    "            \n",
    "            print('iter: {}/{}, running loss = {:.4f}'.format(iteration, total_iter, running_loss), end='\\r')\n",
    "            \n",
    "        training_loss = running_loss / totals\n",
    "        test_loss, test_acc = test(model, test_dataloader, device=device)\n",
    "        stats.append((training_loss, test_loss, test_acc))\n",
    "                   \n",
    "        if test_acc > best_acc:\n",
    "            best_acc = test_acc\n",
    "            saved_epoch = epoch\n",
    "            best_model_weights = copy.deepcopy(model.state_dict())\n",
    "            \n",
    "        print('Epoch: {} \\tTraining Loss: {:.4f} \\tTest Loss: {:.4f} \\tTest Accuracy: {:.4f}'.format(\n",
    "               epoch, training_loss, test_loss, test_acc))\n",
    "        \n",
    "    print('Best Test Acc: {:4f}'.format(best_acc))\n",
    "    model.load_state_dict(best_model_weights)\n",
    "    \n",
    "    return stats, saved_epoch"
   ]
  },
  {
   "cell_type": "code",
   "execution_count": 12,
   "metadata": {
    "ExecuteTime": {
     "end_time": "2018-07-02T12:21:46.314811Z",
     "start_time": "2018-07-02T12:21:46.309443Z"
    }
   },
   "outputs": [],
   "source": [
    "def test(model, dataloader, device=device):\n",
    "    cross_entropy = nn.CrossEntropyLoss()\n",
    "    model = model.to(device)\n",
    "    model.eval()\n",
    "    \n",
    "    total_loss = 0\n",
    "    total_corrects = 0\n",
    "    count = 0\n",
    "  \n",
    "    with torch.no_grad():\n",
    "        for packedseq, label in train_dataloader:\n",
    "            if device.type == 'cuda':\n",
    "                packedseq = packedseq.cuda()\n",
    "                label = label.cuda()\n",
    "            elif device.type == \"cpu\":\n",
    "                packedseq = packedseq.cpu()\n",
    "                label = label.cpu()\n",
    "            \n",
    "            output = model(packedseq)\n",
    "            \n",
    "            loss = cross_entropy(output, label.data)\n",
    "            total_loss += loss.item() * label.data.shape[0]\n",
    "            \n",
    "            correct = output.argmax(dim=1) == label.data\n",
    "            total_corrects += correct.sum().item()\n",
    "            count += label.data.shape[0]\n",
    "            \n",
    "    loss = total_loss/count\n",
    "    accuracy = total_corrects/count\n",
    "    \n",
    "    return loss, accuracy"
   ]
  },
  {
   "cell_type": "code",
   "execution_count": 13,
   "metadata": {
    "ExecuteTime": {
     "end_time": "2018-07-02T12:21:47.656532Z",
     "start_time": "2018-07-02T12:21:47.596573Z"
    }
   },
   "outputs": [],
   "source": [
    "train_data = WordDataset(1)\n",
    "test_data = WordDataset(0)\n",
    "\n",
    "train_dataloader = DataLoader(train_data, batch_size=5, shuffle=True, collate_fn=collate)\n",
    "test_dataloader = DataLoader(test_data, batch_size=5, shuffle=True, collate_fn=collate)"
   ]
  },
  {
   "cell_type": "code",
   "execution_count": 14,
   "metadata": {
    "ExecuteTime": {
     "end_time": "2018-07-02T12:40:15.438806Z",
     "start_time": "2018-07-02T12:21:48.657864Z"
    },
    "scrolled": false
   },
   "outputs": [
    {
     "name": "stdout",
     "output_type": "stream",
     "text": [
      "Epoch: 1 \tTraining Loss: 3.1430 \tTest Loss: 3.0503 \tTest Accuracy: 0.1821\n",
      "Epoch: 2 \tTraining Loss: 2.7382 \tTest Loss: 2.4904 \tTest Accuracy: 0.2978\n",
      "Epoch: 3 \tTraining Loss: 2.3713 \tTest Loss: 2.2694 \tTest Accuracy: 0.3452\n",
      "Epoch: 4 \tTraining Loss: 2.1788 \tTest Loss: 2.1264 \tTest Accuracy: 0.3812\n",
      "Epoch: 5 \tTraining Loss: 2.0377 \tTest Loss: 2.0680 \tTest Accuracy: 0.4011\n",
      "Best Test Acc: 0.401103\n"
     ]
    }
   ],
   "source": [
    "model = LSTMmodel(input_size=n_letters, hidden_size=100, num_layers=2, num_chars=n_letters, dropout=0.1, device=device)\n",
    "epoch_stats = train(model, train_dataloader=train_dataloader, test_dataloader=test_dataloader, train_data_len=len(train_data), device=device)\n",
    "test_loss, test_acc = test(model, test_dataloader)"
   ]
  },
  {
   "cell_type": "code",
   "execution_count": 15,
   "metadata": {
    "ExecuteTime": {
     "end_time": "2018-07-02T12:40:43.621066Z",
     "start_time": "2018-07-02T12:40:43.616982Z"
    }
   },
   "outputs": [
    {
     "data": {
      "text/plain": [
       "(2.067983208024586, 0.40110295782257893)"
      ]
     },
     "execution_count": 15,
     "metadata": {},
     "output_type": "execute_result"
    }
   ],
   "source": [
    "test_loss, test_acc"
   ]
  },
  {
   "cell_type": "code",
   "execution_count": null,
   "metadata": {},
   "outputs": [],
   "source": []
  },
  {
   "cell_type": "code",
   "execution_count": null,
   "metadata": {},
   "outputs": [],
   "source": []
  },
  {
   "cell_type": "code",
   "execution_count": null,
   "metadata": {},
   "outputs": [],
   "source": []
  },
  {
   "cell_type": "code",
   "execution_count": null,
   "metadata": {},
   "outputs": [],
   "source": []
  },
  {
   "cell_type": "code",
   "execution_count": null,
   "metadata": {},
   "outputs": [],
   "source": []
  },
  {
   "cell_type": "code",
   "execution_count": null,
   "metadata": {},
   "outputs": [],
   "source": []
  },
  {
   "cell_type": "code",
   "execution_count": null,
   "metadata": {},
   "outputs": [],
   "source": []
  },
  {
   "cell_type": "markdown",
   "metadata": {},
   "source": [
    "Training\n",
    "=========\n",
    "Preparing for Training\n",
    "----------------------\n",
    "\n",
    "First of all, helper functions to get random pairs of (category, line):\n",
    "\n",
    "\n"
   ]
  },
  {
   "cell_type": "code",
   "execution_count": null,
   "metadata": {},
   "outputs": [],
   "source": [
    "import random\n",
    "\n",
    "# Random item from a list\n",
    "def randomChoice(l):\n",
    "    return l[random.randint(0, len(l) - 1)]\n",
    "\n",
    "# Get a random category and random line from that category\n",
    "def randomTrainingPair():\n",
    "    category = randomChoice(all_categories)\n",
    "    line = randomChoice(category_lines[category])\n",
    "    return category, line"
   ]
  },
  {
   "cell_type": "markdown",
   "metadata": {},
   "source": [
    "For each timestep (that is, for each letter in a training word) the\n",
    "inputs of the network will be\n",
    "``(category, current letter, hidden state)`` and the outputs will be\n",
    "``(next letter, next hidden state)``. So for each training set, we'll\n",
    "need the category, a set of input letters, and a set of output/target\n",
    "letters.\n",
    "\n",
    "Since we are predicting the next letter from the current letter for each\n",
    "timestep, the letter pairs are groups of consecutive letters from the\n",
    "line - e.g. for ``\"ABCD<EOS>\"`` we would create (\"A\", \"B\"), (\"B\", \"C\"),\n",
    "(\"C\", \"D\"), (\"D\", \"EOS\").\n",
    "\n",
    ".. figure:: https://i.imgur.com/JH58tXY.png\n",
    "   :alt:\n",
    "\n",
    "The category tensor is a `one-hot\n",
    "tensor <https://en.wikipedia.org/wiki/One-hot>`__ of size\n",
    "``<1 x n_categories>``. When training we feed it to the network at every\n",
    "timestep - this is a design choice, it could have been included as part\n",
    "of initial hidden state or some other strategy.\n",
    "\n",
    "\n"
   ]
  },
  {
   "cell_type": "code",
   "execution_count": null,
   "metadata": {},
   "outputs": [],
   "source": [
    "# # One-hot vector for category\n",
    "# def categoryTensor(category):\n",
    "#     li = all_categories.index(category)\n",
    "#     tensor = torch.zeros(1, n_categories)\n",
    "#     tensor[0][li] = 1\n",
    "#     return tensor\n",
    "\n",
    "# # One-hot matrix of first to last letters (not including EOS) for input\n",
    "# def inputTensor(line):\n",
    "#     tensor = torch.zeros(len(line), 1, n_letters)\n",
    "#     for li in range(len(line)):\n",
    "#         letter = line[li]\n",
    "#         tensor[li][0][all_letters.find(letter)] = 1\n",
    "#     return tensor\n",
    "\n",
    "# # LongTensor of second letter to end (EOS) for target\n",
    "# def targetTensor(line):\n",
    "#     letter_indexes = [all_letters.find(line[li]) for li in range(1, len(line))]\n",
    "#     letter_indexes.append(n_letters - 1) # EOS\n",
    "#     return torch.LongTensor(letter_indexes)"
   ]
  },
  {
   "cell_type": "markdown",
   "metadata": {},
   "source": [
    "For convenience during training we'll make a ``randomTrainingExample``\n",
    "function that fetches a random (category, line) pair and turns them into\n",
    "the required (category, input, target) tensors.\n",
    "\n",
    "\n"
   ]
  },
  {
   "cell_type": "code",
   "execution_count": null,
   "metadata": {},
   "outputs": [],
   "source": [
    "# Make category, input, and target tensors from a random category, line pair\n",
    "def randomTrainingExample():\n",
    "    category, line = randomTrainingPair()\n",
    "    category_tensor = categoryTensor(category)\n",
    "    input_line_tensor = inputTensor(line)\n",
    "    target_line_tensor = targetTensor(line)\n",
    "    return category_tensor, input_line_tensor, target_line_tensor"
   ]
  },
  {
   "cell_type": "markdown",
   "metadata": {},
   "source": [
    "Training the Network\n",
    "--------------------\n",
    "\n",
    "In contrast to classification, where only the last output is used, we\n",
    "are making a prediction at every step, so we are calculating loss at\n",
    "every step.\n",
    "\n",
    "The magic of autograd allows you to simply sum these losses at each step\n",
    "and call backward at the end.\n",
    "\n",
    "\n"
   ]
  },
  {
   "cell_type": "code",
   "execution_count": null,
   "metadata": {},
   "outputs": [],
   "source": [
    "criterion = nn.CrossEntropyLoss()\n",
    "\n",
    "learning_rate = 0.0005\n",
    "\n",
    "def train(category_tensor, input_line_tensor, target_line_tensor):\n",
    "    target_line_tensor.unsqueeze_(-1)\n",
    "    hidden = rnn.initHidden()\n",
    "\n",
    "    rnn.zero_grad()\n",
    "\n",
    "    loss = 0\n",
    "\n",
    "    for i in range(input_line_tensor.size(0)):\n",
    "        output, hidden = rnn(category_tensor, input_line_tensor[i], hidden)\n",
    "        l = criterion(output, target_line_tensor[i])\n",
    "        loss += l\n",
    "\n",
    "    loss.backward()\n",
    "\n",
    "    for p in rnn.parameters():\n",
    "        p.data.add_(-learning_rate, p.grad.data)\n",
    "\n",
    "    return output, loss.item() / input_line_tensor.size(0)"
   ]
  },
  {
   "cell_type": "markdown",
   "metadata": {},
   "source": [
    "To keep track of how long training takes I am adding a\n",
    "``timeSince(timestamp)`` function which returns a human readable string:"
   ]
  },
  {
   "cell_type": "code",
   "execution_count": null,
   "metadata": {},
   "outputs": [],
   "source": [
    "import time\n",
    "import math\n",
    "\n",
    "def timeSince(since):\n",
    "    now = time.time()\n",
    "    s = now - since\n",
    "    m = math.floor(s / 60)\n",
    "    s -= m * 60\n",
    "    return '%dm %ds' % (m, s)"
   ]
  },
  {
   "cell_type": "markdown",
   "metadata": {},
   "source": [
    "Training is business as usual - call train a bunch of times and wait a\n",
    "few minutes, printing the current time and loss every ``print_every``\n",
    "examples, and keeping store of an average loss per ``plot_every`` examples\n",
    "in ``all_losses`` for plotting later.\n",
    "\n",
    "\n"
   ]
  },
  {
   "cell_type": "code",
   "execution_count": null,
   "metadata": {},
   "outputs": [],
   "source": [
    "rnn = RNN(n_letters, 128, n_letters)\n",
    "\n",
    "n_iters = 100000\n",
    "print_every = 5000\n",
    "plot_every = 500\n",
    "all_losses = []\n",
    "total_loss = 0 # Reset every plot_every iters\n",
    "\n",
    "start = time.time()\n",
    "\n",
    "for iter in range(1, n_iters + 1):\n",
    "    output, loss = train(*randomTrainingExample())\n",
    "    total_loss += loss\n",
    "\n",
    "    if iter % print_every == 0:\n",
    "        print('%s (%d %d%%) %.4f' % (timeSince(start), iter, iter / n_iters * 100, loss))\n",
    "\n",
    "    if iter % plot_every == 0:\n",
    "        all_losses.append(total_loss / plot_every)\n",
    "        total_loss = 0"
   ]
  },
  {
   "cell_type": "markdown",
   "metadata": {},
   "source": [
    "Plotting the Losses\n",
    "-------------------\n",
    "\n",
    "Plotting the historical loss from all\\_losses shows the network\n",
    "learning:\n",
    "\n",
    "\n"
   ]
  },
  {
   "cell_type": "code",
   "execution_count": null,
   "metadata": {},
   "outputs": [],
   "source": [
    "import matplotlib.pyplot as plt\n",
    "import matplotlib.ticker as ticker\n",
    "\n",
    "plt.figure()\n",
    "plt.plot(all_losses)"
   ]
  },
  {
   "cell_type": "markdown",
   "metadata": {},
   "source": [
    "Sampling the Network\n",
    "====================\n",
    "\n",
    "To sample we give the network a letter and ask what the next one is,\n",
    "feed that in as the next letter, and repeat until the EOS token.\n",
    "\n",
    "-  Create tensors for input category, starting letter, and empty hidden\n",
    "   state\n",
    "-  Create a string ``output_name`` with the starting letter\n",
    "-  Up to a maximum output length,\n",
    "\n",
    "   -  Feed the current letter to the network\n",
    "   -  Get the next letter from highest output, and next hidden state\n",
    "   -  If the letter is EOS, stop here\n",
    "   -  If a regular letter, add to ``output_name`` and continue\n",
    "\n",
    "-  Return the final name\n",
    "\n",
    ".. Note::\n",
    "   Rather than having to give it a starting letter, another\n",
    "   strategy would have been to include a \"start of string\" token in\n",
    "   training and have the network choose its own starting letter.\n",
    "\n",
    "\n"
   ]
  },
  {
   "cell_type": "code",
   "execution_count": null,
   "metadata": {},
   "outputs": [],
   "source": [
    "max_length = 20\n",
    "\n",
    "# Sample from a category and starting letter\n",
    "def sample(category, start_letter='A'):\n",
    "    with torch.no_grad():  # no need to track history in sampling\n",
    "        category_tensor = categoryTensor(category)\n",
    "        input = inputTensor(start_letter)\n",
    "        hidden = rnn.initHidden()\n",
    "\n",
    "        output_name = start_letter\n",
    "\n",
    "        for i in range(max_length):\n",
    "            output, hidden = rnn(category_tensor, input[0], hidden)\n",
    "            topv, topi = output.topk(1)\n",
    "            topi = topi[0][0]\n",
    "            if topi == n_letters - 1:\n",
    "                break\n",
    "            else:\n",
    "                letter = all_letters[topi]\n",
    "                output_name += letter\n",
    "            input = inputTensor(letter)\n",
    "\n",
    "        return output_name\n",
    "\n",
    "# Get multiple samples from one category and multiple starting letters\n",
    "def samples(category, start_letters='ABC'):\n",
    "    for start_letter in start_letters:\n",
    "        print(sample(category, start_letter))\n",
    "\n",
    "samples('Russian', 'RUS')\n",
    "\n",
    "samples('German', 'GER')\n",
    "\n",
    "samples('Spanish', 'SPA')\n",
    "\n",
    "samples('Chinese', 'CHI')"
   ]
  },
  {
   "cell_type": "markdown",
   "metadata": {},
   "source": [
    "Exercises\n",
    "=========\n",
    "\n",
    "-  Try with a different dataset of category -> line, for example:\n",
    "\n",
    "   -  Fictional series -> Character name\n",
    "   -  Part of speech -> Word\n",
    "   -  Country -> City\n",
    "\n",
    "-  Use a \"start of sentence\" token so that sampling can be done without\n",
    "   choosing a start letter\n",
    "-  Get better results with a bigger and/or better shaped network\n",
    "\n",
    "   -  Try the nn.LSTM and nn.GRU layers\n",
    "   -  Combine multiple of these RNNs as a higher level network\n",
    "\n",
    "\n"
   ]
  }
 ],
 "metadata": {
  "kernelspec": {
   "display_name": "Python 3",
   "language": "python",
   "name": "python3"
  },
  "language_info": {
   "codemirror_mode": {
    "name": "ipython",
    "version": 3
   },
   "file_extension": ".py",
   "mimetype": "text/x-python",
   "name": "python",
   "nbconvert_exporter": "python",
   "pygments_lexer": "ipython3",
   "version": "3.6.5"
  },
  "toc": {
   "base_numbering": 1,
   "nav_menu": {},
   "number_sections": true,
   "sideBar": true,
   "skip_h1_title": false,
   "title_cell": "Table of Contents",
   "title_sidebar": "Contents",
   "toc_cell": false,
   "toc_position": {},
   "toc_section_display": true,
   "toc_window_display": false
  },
  "varInspector": {
   "cols": {
    "lenName": 16,
    "lenType": 16,
    "lenVar": 40
   },
   "kernels_config": {
    "python": {
     "delete_cmd_postfix": "",
     "delete_cmd_prefix": "del ",
     "library": "var_list.py",
     "varRefreshCmd": "print(var_dic_list())"
    },
    "r": {
     "delete_cmd_postfix": ") ",
     "delete_cmd_prefix": "rm(",
     "library": "var_list.r",
     "varRefreshCmd": "cat(var_dic_list()) "
    }
   },
   "types_to_exclude": [
    "module",
    "function",
    "builtin_function_or_method",
    "instance",
    "_Feature"
   ],
   "window_display": false
  }
 },
 "nbformat": 4,
 "nbformat_minor": 1
}
